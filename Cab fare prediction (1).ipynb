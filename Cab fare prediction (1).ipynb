{
 "cells": [
  {
   "cell_type": "markdown",
   "metadata": {},
   "source": [
    "## Import the necessary modules and libraries"
   ]
  },
  {
   "cell_type": "code",
   "execution_count": 14,
   "metadata": {},
   "outputs": [],
   "source": [
    "\n",
    "import numpy as np               # For numerical function\n",
    "import pandas as pd              #For Data Manupulation \n",
    "import datetime as dt             # For dealing with datetime dataypes\n",
    "import calendar\n",
    "\n",
    "\n",
    "# For plotting\n",
    "%matplotlib inline\n",
    "import matplotlib.pyplot as plt\n",
    "from matplotlib import style\n",
    "import seaborn as sns\n",
    "sns.set(context=\"notebook\", palette=\"deep\", style = 'darkgrid' ,font_scale = 1.5, color_codes=True)\n",
    "\n",
    "# For Modeling and accuracy \n",
    "from sklearn.model_selection import train_test_split     # For splitting data into train and test\n",
    "from sklearn.linear_model import LinearRegression        # Linear Regression\n",
    "from sklearn.metrics import mean_squared_error          # To calculate RMSE\n",
    "from sklearn.ensemble import RandomForestRegressor     # Random forest "
   ]
  },
  {
   "cell_type": "markdown",
   "metadata": {},
   "source": [
    "## Import Data"
   ]
  },
  {
   "cell_type": "code",
   "execution_count": 15,
   "metadata": {},
   "outputs": [],
   "source": [
    "df_train= pd.read_csv(\"D:/projects/Cab Fare Prediction/train_cab/train_cab.csv\")\n",
    "df_test= pd.read_csv(\"D:/projects/Cab Fare Prediction/test/test.csv\")\n",
    "\n",
    "\n"
   ]
  },
  {
   "cell_type": "code",
   "execution_count": 16,
   "metadata": {},
   "outputs": [
    {
     "data": {
      "text/html": [
       "<div>\n",
       "<style scoped>\n",
       "    .dataframe tbody tr th:only-of-type {\n",
       "        vertical-align: middle;\n",
       "    }\n",
       "\n",
       "    .dataframe tbody tr th {\n",
       "        vertical-align: top;\n",
       "    }\n",
       "\n",
       "    .dataframe thead th {\n",
       "        text-align: right;\n",
       "    }\n",
       "</style>\n",
       "<table border=\"1\" class=\"dataframe\">\n",
       "  <thead>\n",
       "    <tr style=\"text-align: right;\">\n",
       "      <th></th>\n",
       "      <th>fare_amount</th>\n",
       "      <th>pickup_datetime</th>\n",
       "      <th>pickup_longitude</th>\n",
       "      <th>pickup_latitude</th>\n",
       "      <th>dropoff_longitude</th>\n",
       "      <th>dropoff_latitude</th>\n",
       "      <th>passenger_count</th>\n",
       "    </tr>\n",
       "  </thead>\n",
       "  <tbody>\n",
       "    <tr>\n",
       "      <th>16062</th>\n",
       "      <td>6.5</td>\n",
       "      <td>2014-12-12 07:41:00 UTC</td>\n",
       "      <td>-74.008820</td>\n",
       "      <td>40.718757</td>\n",
       "      <td>-73.998865</td>\n",
       "      <td>40.719987</td>\n",
       "      <td>1.0</td>\n",
       "    </tr>\n",
       "    <tr>\n",
       "      <th>16063</th>\n",
       "      <td>16.1</td>\n",
       "      <td>2009-07-13 07:58:00 UTC</td>\n",
       "      <td>-73.981310</td>\n",
       "      <td>40.781695</td>\n",
       "      <td>-74.014392</td>\n",
       "      <td>40.715527</td>\n",
       "      <td>2.0</td>\n",
       "    </tr>\n",
       "    <tr>\n",
       "      <th>16064</th>\n",
       "      <td>8.5</td>\n",
       "      <td>2009-11-11 11:19:07 UTC</td>\n",
       "      <td>-73.972507</td>\n",
       "      <td>40.753417</td>\n",
       "      <td>-73.979577</td>\n",
       "      <td>40.765495</td>\n",
       "      <td>1.0</td>\n",
       "    </tr>\n",
       "    <tr>\n",
       "      <th>16065</th>\n",
       "      <td>8.1</td>\n",
       "      <td>2010-05-11 23:53:00 UTC</td>\n",
       "      <td>-73.957027</td>\n",
       "      <td>40.765945</td>\n",
       "      <td>-73.981983</td>\n",
       "      <td>40.779560</td>\n",
       "      <td>1.0</td>\n",
       "    </tr>\n",
       "    <tr>\n",
       "      <th>16066</th>\n",
       "      <td>8.5</td>\n",
       "      <td>2011-12-14 06:24:33 UTC</td>\n",
       "      <td>-74.002111</td>\n",
       "      <td>40.729755</td>\n",
       "      <td>-73.983877</td>\n",
       "      <td>40.761975</td>\n",
       "      <td>NaN</td>\n",
       "    </tr>\n",
       "  </tbody>\n",
       "</table>\n",
       "</div>"
      ],
      "text/plain": [
       "      fare_amount          pickup_datetime  pickup_longitude  pickup_latitude  \\\n",
       "16062         6.5  2014-12-12 07:41:00 UTC        -74.008820        40.718757   \n",
       "16063        16.1  2009-07-13 07:58:00 UTC        -73.981310        40.781695   \n",
       "16064         8.5  2009-11-11 11:19:07 UTC        -73.972507        40.753417   \n",
       "16065         8.1  2010-05-11 23:53:00 UTC        -73.957027        40.765945   \n",
       "16066         8.5  2011-12-14 06:24:33 UTC        -74.002111        40.729755   \n",
       "\n",
       "       dropoff_longitude  dropoff_latitude  passenger_count  \n",
       "16062         -73.998865         40.719987              1.0  \n",
       "16063         -74.014392         40.715527              2.0  \n",
       "16064         -73.979577         40.765495              1.0  \n",
       "16065         -73.981983         40.779560              1.0  \n",
       "16066         -73.983877         40.761975              NaN  "
      ]
     },
     "execution_count": 16,
     "metadata": {},
     "output_type": "execute_result"
    }
   ],
   "source": [
    "df_train.head()\n",
    "df_train.tail()\n"
   ]
  },
  {
   "cell_type": "code",
   "execution_count": 17,
   "metadata": {},
   "outputs": [
    {
     "data": {
      "text/plain": [
       "(9914, 6)"
      ]
     },
     "execution_count": 17,
     "metadata": {},
     "output_type": "execute_result"
    }
   ],
   "source": [
    "df_test.shape"
   ]
  },
  {
   "cell_type": "code",
   "execution_count": 18,
   "metadata": {
    "scrolled": true
   },
   "outputs": [
    {
     "name": "stdout",
     "output_type": "stream",
     "text": [
      "<class 'pandas.core.frame.DataFrame'>\n",
      "RangeIndex: 9914 entries, 0 to 9913\n",
      "Data columns (total 6 columns):\n",
      "pickup_datetime      9914 non-null object\n",
      "pickup_longitude     9914 non-null float64\n",
      "pickup_latitude      9914 non-null float64\n",
      "dropoff_longitude    9914 non-null float64\n",
      "dropoff_latitude     9914 non-null float64\n",
      "passenger_count      9914 non-null int64\n",
      "dtypes: float64(4), int64(1), object(1)\n",
      "memory usage: 464.8+ KB\n"
     ]
    }
   ],
   "source": [
    "#df_train.info()\n",
    "\n",
    "\n",
    "df_test.info()"
   ]
  },
  {
   "cell_type": "code",
   "execution_count": 19,
   "metadata": {},
   "outputs": [],
   "source": [
    "df_train.loc[ df_train['fare_amount'] ==\"430-\", 'fare_amount']= 430 \n",
    "df_train[\"fare_amount\"]= df_train[\"fare_amount\"].astype(\"float\")\n",
    "df_train[\"passenger_count\"]=df_train[\"passenger_count\"].astype(\"O\")\n",
    "\n",
    "\n",
    "\n"
   ]
  },
  {
   "cell_type": "code",
   "execution_count": 20,
   "metadata": {},
   "outputs": [
    {
     "data": {
      "text/html": [
       "<div>\n",
       "<style scoped>\n",
       "    .dataframe tbody tr th:only-of-type {\n",
       "        vertical-align: middle;\n",
       "    }\n",
       "\n",
       "    .dataframe tbody tr th {\n",
       "        vertical-align: top;\n",
       "    }\n",
       "\n",
       "    .dataframe thead th {\n",
       "        text-align: right;\n",
       "    }\n",
       "</style>\n",
       "<table border=\"1\" class=\"dataframe\">\n",
       "  <thead>\n",
       "    <tr style=\"text-align: right;\">\n",
       "      <th></th>\n",
       "      <th>fare_amount</th>\n",
       "      <th>pickup_datetime</th>\n",
       "      <th>pickup_longitude</th>\n",
       "      <th>pickup_latitude</th>\n",
       "      <th>dropoff_longitude</th>\n",
       "      <th>dropoff_latitude</th>\n",
       "      <th>passenger_count</th>\n",
       "    </tr>\n",
       "  </thead>\n",
       "  <tbody>\n",
       "    <tr>\n",
       "      <th>16062</th>\n",
       "      <td>6.5</td>\n",
       "      <td>2014-12-12 07:41:00 UTC</td>\n",
       "      <td>-74.008820</td>\n",
       "      <td>40.718757</td>\n",
       "      <td>-73.998865</td>\n",
       "      <td>40.719987</td>\n",
       "      <td>1</td>\n",
       "    </tr>\n",
       "    <tr>\n",
       "      <th>16063</th>\n",
       "      <td>16.1</td>\n",
       "      <td>2009-07-13 07:58:00 UTC</td>\n",
       "      <td>-73.981310</td>\n",
       "      <td>40.781695</td>\n",
       "      <td>-74.014392</td>\n",
       "      <td>40.715527</td>\n",
       "      <td>2</td>\n",
       "    </tr>\n",
       "    <tr>\n",
       "      <th>16064</th>\n",
       "      <td>8.5</td>\n",
       "      <td>2009-11-11 11:19:07 UTC</td>\n",
       "      <td>-73.972507</td>\n",
       "      <td>40.753417</td>\n",
       "      <td>-73.979577</td>\n",
       "      <td>40.765495</td>\n",
       "      <td>1</td>\n",
       "    </tr>\n",
       "    <tr>\n",
       "      <th>16065</th>\n",
       "      <td>8.1</td>\n",
       "      <td>2010-05-11 23:53:00 UTC</td>\n",
       "      <td>-73.957027</td>\n",
       "      <td>40.765945</td>\n",
       "      <td>-73.981983</td>\n",
       "      <td>40.779560</td>\n",
       "      <td>1</td>\n",
       "    </tr>\n",
       "    <tr>\n",
       "      <th>16066</th>\n",
       "      <td>8.5</td>\n",
       "      <td>2011-12-14 06:24:33 UTC</td>\n",
       "      <td>-74.002111</td>\n",
       "      <td>40.729755</td>\n",
       "      <td>-73.983877</td>\n",
       "      <td>40.761975</td>\n",
       "      <td>NaN</td>\n",
       "    </tr>\n",
       "  </tbody>\n",
       "</table>\n",
       "</div>"
      ],
      "text/plain": [
       "       fare_amount          pickup_datetime  pickup_longitude  \\\n",
       "16062          6.5  2014-12-12 07:41:00 UTC        -74.008820   \n",
       "16063         16.1  2009-07-13 07:58:00 UTC        -73.981310   \n",
       "16064          8.5  2009-11-11 11:19:07 UTC        -73.972507   \n",
       "16065          8.1  2010-05-11 23:53:00 UTC        -73.957027   \n",
       "16066          8.5  2011-12-14 06:24:33 UTC        -74.002111   \n",
       "\n",
       "       pickup_latitude  dropoff_longitude  dropoff_latitude passenger_count  \n",
       "16062        40.718757         -73.998865         40.719987               1  \n",
       "16063        40.781695         -74.014392         40.715527               2  \n",
       "16064        40.753417         -73.979577         40.765495               1  \n",
       "16065        40.765945         -73.981983         40.779560               1  \n",
       "16066        40.729755         -73.983877         40.761975             NaN  "
      ]
     },
     "execution_count": 20,
     "metadata": {},
     "output_type": "execute_result"
    }
   ],
   "source": [
    "  df_train.tail()"
   ]
  },
  {
   "cell_type": "markdown",
   "metadata": {},
   "source": [
    "##### DATA SUmmary"
   ]
  },
  {
   "cell_type": "code",
   "execution_count": 21,
   "metadata": {},
   "outputs": [
    {
     "data": {
      "text/html": [
       "<div>\n",
       "<style scoped>\n",
       "    .dataframe tbody tr th:only-of-type {\n",
       "        vertical-align: middle;\n",
       "    }\n",
       "\n",
       "    .dataframe tbody tr th {\n",
       "        vertical-align: top;\n",
       "    }\n",
       "\n",
       "    .dataframe thead th {\n",
       "        text-align: right;\n",
       "    }\n",
       "</style>\n",
       "<table border=\"1\" class=\"dataframe\">\n",
       "  <thead>\n",
       "    <tr style=\"text-align: right;\">\n",
       "      <th></th>\n",
       "      <th>count</th>\n",
       "      <th>mean</th>\n",
       "      <th>std</th>\n",
       "      <th>min</th>\n",
       "      <th>25%</th>\n",
       "      <th>50%</th>\n",
       "      <th>75%</th>\n",
       "      <th>max</th>\n",
       "    </tr>\n",
       "  </thead>\n",
       "  <tbody>\n",
       "    <tr>\n",
       "      <th>fare_amount</th>\n",
       "      <td>16043.0</td>\n",
       "      <td>15.040871</td>\n",
       "      <td>430.459997</td>\n",
       "      <td>-3.000000</td>\n",
       "      <td>6.000000</td>\n",
       "      <td>8.500000</td>\n",
       "      <td>12.500000</td>\n",
       "      <td>54343.000000</td>\n",
       "    </tr>\n",
       "    <tr>\n",
       "      <th>pickup_longitude</th>\n",
       "      <td>16067.0</td>\n",
       "      <td>-72.462787</td>\n",
       "      <td>10.578384</td>\n",
       "      <td>-74.438233</td>\n",
       "      <td>-73.992156</td>\n",
       "      <td>-73.981698</td>\n",
       "      <td>-73.966838</td>\n",
       "      <td>40.766125</td>\n",
       "    </tr>\n",
       "    <tr>\n",
       "      <th>pickup_latitude</th>\n",
       "      <td>16067.0</td>\n",
       "      <td>39.914725</td>\n",
       "      <td>6.826587</td>\n",
       "      <td>-74.006893</td>\n",
       "      <td>40.734927</td>\n",
       "      <td>40.752603</td>\n",
       "      <td>40.767381</td>\n",
       "      <td>401.083332</td>\n",
       "    </tr>\n",
       "    <tr>\n",
       "      <th>dropoff_longitude</th>\n",
       "      <td>16067.0</td>\n",
       "      <td>-72.462328</td>\n",
       "      <td>10.575062</td>\n",
       "      <td>-74.429332</td>\n",
       "      <td>-73.991182</td>\n",
       "      <td>-73.980172</td>\n",
       "      <td>-73.963643</td>\n",
       "      <td>40.802437</td>\n",
       "    </tr>\n",
       "    <tr>\n",
       "      <th>dropoff_latitude</th>\n",
       "      <td>16067.0</td>\n",
       "      <td>39.897906</td>\n",
       "      <td>6.187087</td>\n",
       "      <td>-74.006377</td>\n",
       "      <td>40.734651</td>\n",
       "      <td>40.753567</td>\n",
       "      <td>40.768013</td>\n",
       "      <td>41.366138</td>\n",
       "    </tr>\n",
       "  </tbody>\n",
       "</table>\n",
       "</div>"
      ],
      "text/plain": [
       "                     count       mean         std        min        25%  \\\n",
       "fare_amount        16043.0  15.040871  430.459997  -3.000000   6.000000   \n",
       "pickup_longitude   16067.0 -72.462787   10.578384 -74.438233 -73.992156   \n",
       "pickup_latitude    16067.0  39.914725    6.826587 -74.006893  40.734927   \n",
       "dropoff_longitude  16067.0 -72.462328   10.575062 -74.429332 -73.991182   \n",
       "dropoff_latitude   16067.0  39.897906    6.187087 -74.006377  40.734651   \n",
       "\n",
       "                         50%        75%           max  \n",
       "fare_amount         8.500000  12.500000  54343.000000  \n",
       "pickup_longitude  -73.981698 -73.966838     40.766125  \n",
       "pickup_latitude    40.752603  40.767381    401.083332  \n",
       "dropoff_longitude -73.980172 -73.963643     40.802437  \n",
       "dropoff_latitude   40.753567  40.768013     41.366138  "
      ]
     },
     "execution_count": 21,
     "metadata": {},
     "output_type": "execute_result"
    }
   ],
   "source": [
    "df_train.describe().T"
   ]
  },
  {
   "cell_type": "code",
   "execution_count": 22,
   "metadata": {
    "scrolled": true
   },
   "outputs": [
    {
     "data": {
      "text/html": [
       "<div>\n",
       "<style scoped>\n",
       "    .dataframe tbody tr th:only-of-type {\n",
       "        vertical-align: middle;\n",
       "    }\n",
       "\n",
       "    .dataframe tbody tr th {\n",
       "        vertical-align: top;\n",
       "    }\n",
       "\n",
       "    .dataframe thead th {\n",
       "        text-align: right;\n",
       "    }\n",
       "</style>\n",
       "<table border=\"1\" class=\"dataframe\">\n",
       "  <thead>\n",
       "    <tr style=\"text-align: right;\">\n",
       "      <th></th>\n",
       "      <th>pickup_datetime</th>\n",
       "      <th>passenger_count</th>\n",
       "    </tr>\n",
       "  </thead>\n",
       "  <tbody>\n",
       "    <tr>\n",
       "      <th>count</th>\n",
       "      <td>16067</td>\n",
       "      <td>16012.0</td>\n",
       "    </tr>\n",
       "    <tr>\n",
       "      <th>unique</th>\n",
       "      <td>16021</td>\n",
       "      <td>27.0</td>\n",
       "    </tr>\n",
       "    <tr>\n",
       "      <th>top</th>\n",
       "      <td>2012-01-26 13:12:00 UTC</td>\n",
       "      <td>1.0</td>\n",
       "    </tr>\n",
       "    <tr>\n",
       "      <th>freq</th>\n",
       "      <td>2</td>\n",
       "      <td>11259.0</td>\n",
       "    </tr>\n",
       "  </tbody>\n",
       "</table>\n",
       "</div>"
      ],
      "text/plain": [
       "                pickup_datetime  passenger_count\n",
       "count                     16067          16012.0\n",
       "unique                    16021             27.0\n",
       "top     2012-01-26 13:12:00 UTC              1.0\n",
       "freq                          2          11259.0"
      ]
     },
     "execution_count": 22,
     "metadata": {},
     "output_type": "execute_result"
    }
   ],
   "source": [
    "df_train.describe(include= [\"O\"])"
   ]
  },
  {
   "cell_type": "markdown",
   "metadata": {},
   "source": [
    "## Create year, Month, day feature from datetime "
   ]
  },
  {
   "cell_type": "code",
   "execution_count": 23,
   "metadata": {},
   "outputs": [],
   "source": [
    "# Convert pickup datetime from object type to datetime type\n",
    "\n",
    "#df_train.loc[df_train[\"pickup_datetime\"]== \"43\"]#= np.nan\n",
    "df_train.drop(1327, axis= 0, inplace= True)\n",
    "\n",
    "df_train[\"pickup_datetime\"]= pd.to_datetime(df_train[\"pickup_datetime\"], format= \"%Y-%m-%d %H:%M:%S UTC\")"
   ]
  },
  {
   "cell_type": "code",
   "execution_count": 24,
   "metadata": {},
   "outputs": [],
   "source": [
    "# create date time and year feature\n",
    "\n",
    "df_train[\"pickup_year\"]= df_train.pickup_datetime.apply(lambda x: x.year)\n",
    "df_train['pickup_day']=df_train['pickup_datetime'].apply(lambda x:x.day)\n",
    "df_train[\"picup_day\"]= df_train[\"pickup_datetime\"].apply(lambda x: calendar. day_name[x.weekday()])\n",
    "df_train[\"pickup_month\"]= df_train[\"pickup_datetime\"].apply(lambda x: x.month)\n",
    "\n",
    "df_train[\"pickup_hour\"]= df_train[\"pickup_datetime\"].apply(lambda x: x.hour)"
   ]
  },
  {
   "cell_type": "code",
   "execution_count": null,
   "metadata": {},
   "outputs": [],
   "source": []
  },
  {
   "cell_type": "code",
   "execution_count": 25,
   "metadata": {},
   "outputs": [
    {
     "data": {
      "text/plain": [
       "Index(['fare_amount', 'pickup_datetime', 'pickup_longitude', 'pickup_latitude',\n",
       "       'dropoff_longitude', 'dropoff_latitude', 'passenger_count',\n",
       "       'pickup_year', 'pickup_day', 'picup_day', 'pickup_month',\n",
       "       'pickup_hour'],\n",
       "      dtype='object')"
      ]
     },
     "execution_count": 25,
     "metadata": {},
     "output_type": "execute_result"
    }
   ],
   "source": [
    "df_train.columns"
   ]
  },
  {
   "cell_type": "markdown",
   "metadata": {},
   "source": [
    "# Check anomalies in the dataset"
   ]
  },
  {
   "cell_type": "markdown",
   "metadata": {},
   "source": [
    "## -->Missing value Analysis"
   ]
  },
  {
   "cell_type": "code",
   "execution_count": 26,
   "metadata": {},
   "outputs": [
    {
     "data": {
      "text/plain": [
       "fare_amount          24\n",
       "pickup_datetime       0\n",
       "pickup_longitude      0\n",
       "pickup_latitude       0\n",
       "dropoff_longitude     0\n",
       "dropoff_latitude      0\n",
       "passenger_count      55\n",
       "pickup_year           0\n",
       "pickup_day            0\n",
       "picup_day             0\n",
       "pickup_month          0\n",
       "pickup_hour           0\n",
       "dtype: int64"
      ]
     },
     "execution_count": 26,
     "metadata": {},
     "output_type": "execute_result"
    }
   ],
   "source": [
    "df_train.isnull().sum()"
   ]
  },
  {
   "cell_type": "code",
   "execution_count": 27,
   "metadata": {},
   "outputs": [
    {
     "data": {
      "text/plain": [
       "pickup_datetime      0\n",
       "pickup_longitude     0\n",
       "pickup_latitude      0\n",
       "dropoff_longitude    0\n",
       "dropoff_latitude     0\n",
       "passenger_count      0\n",
       "dtype: int64"
      ]
     },
     "execution_count": 27,
     "metadata": {},
     "output_type": "execute_result"
    }
   ],
   "source": [
    "df_test.isnull().sum()"
   ]
  },
  {
   "cell_type": "code",
   "execution_count": 28,
   "metadata": {
    "scrolled": true
   },
   "outputs": [],
   "source": [
    "df_train.fare_amount= df_train.fare_amount.fillna(df_train.fare_amount.median())\n",
    "df_train.passenger_count= df_train.passenger_count.fillna(1)"
   ]
  },
  {
   "cell_type": "markdown",
   "metadata": {},
   "source": [
    "# Outlier Analysis"
   ]
  },
  {
   "cell_type": "code",
   "execution_count": 29,
   "metadata": {},
   "outputs": [
    {
     "name": "stdout",
     "output_type": "stream",
     "text": [
      "fare_amount\n",
      "12.5 6.0\n",
      "-3.75 22.25\n"
     ]
    },
    {
     "data": {
      "text/plain": [
       "<matplotlib.axes._subplots.AxesSubplot at 0x1244f898>"
      ]
     },
     "execution_count": 29,
     "metadata": {},
     "output_type": "execute_result"
    },
    {
     "data": {
      "image/png": "[encoded data removed]",
      "text/plain": [
       "<Figure size 432x288 with 1 Axes>"
      ]
     },
     "metadata": {},
     "output_type": "display_data"
    }
   ],
   "source": [
    "cname= [\"fare_amount\"]\n",
    "for i in cname:\n",
    "    print(i)\n",
    "\n",
    "    \n",
    "    q75, q25= np.percentile(df_train.loc[:, i], [75, 25])\n",
    "    print(q75, q25)\n",
    "    iqr= q75- q25\n",
    "    min= q25- iqr*1.5\n",
    "    max= q75+ iqr*1.5\n",
    "    print(min, max)\n",
    "    df_train= df_train.drop(df_train[df_train.loc[:, i] < min].index)\n",
    "    df_train= df_train.drop(df_train[df_train.loc[:, i] > max].index)   \n",
    "   \n",
    "\n",
    "\n",
    "\n",
    "\n",
    "\n",
    "data= df_train.loc[:, [\"fare_amount\"]]\n",
    "sns.boxplot(data=data)"
   ]
  },
  {
   "cell_type": "code",
   "execution_count": 30,
   "metadata": {},
   "outputs": [
    {
     "data": {
      "text/plain": [
       "(280, 12)"
      ]
     },
     "execution_count": 30,
     "metadata": {},
     "output_type": "execute_result"
    }
   ],
   "source": [
    "#### There are few values in longitude and latitude variables since this data set is for newyork city taxi fare and Latitude and longitude coordinates are: 40.730610, -73.935242.\n",
    "\n",
    "\n",
    "df_train[(df_train.pickup_latitude==0) | (df_train.pickup_longitude)==0 |\n",
    "         (df_train.dropoff_latitude==0)|(df_train.dropoff_longitude==0)].shape\n",
    "\n",
    "    "
   ]
  },
  {
   "cell_type": "code",
   "execution_count": null,
   "metadata": {},
   "outputs": [],
   "source": []
  },
  {
   "cell_type": "markdown",
   "metadata": {},
   "source": [
    "# Exploratory data analysis"
   ]
  },
  {
   "cell_type": "markdown",
   "metadata": {},
   "source": [
    "## Lets talk about fare amount i.e our target variable\n"
   ]
  },
  {
   "cell_type": "code",
   "execution_count": 31,
   "metadata": {},
   "outputs": [
    {
     "data": {
      "text/html": [
       "<div>\n",
       "<style scoped>\n",
       "    .dataframe tbody tr th:only-of-type {\n",
       "        vertical-align: middle;\n",
       "    }\n",
       "\n",
       "    .dataframe tbody tr th {\n",
       "        vertical-align: top;\n",
       "    }\n",
       "\n",
       "    .dataframe thead th {\n",
       "        text-align: right;\n",
       "    }\n",
       "</style>\n",
       "<table border=\"1\" class=\"dataframe\">\n",
       "  <thead>\n",
       "    <tr style=\"text-align: right;\">\n",
       "      <th></th>\n",
       "      <th>fare_amount</th>\n",
       "      <th>pickup_datetime</th>\n",
       "      <th>pickup_longitude</th>\n",
       "      <th>pickup_latitude</th>\n",
       "      <th>dropoff_longitude</th>\n",
       "      <th>dropoff_latitude</th>\n",
       "      <th>passenger_count</th>\n",
       "      <th>pickup_year</th>\n",
       "      <th>pickup_day</th>\n",
       "      <th>picup_day</th>\n",
       "      <th>pickup_month</th>\n",
       "      <th>pickup_hour</th>\n",
       "    </tr>\n",
       "  </thead>\n",
       "  <tbody>\n",
       "    <tr>\n",
       "      <th>2039</th>\n",
       "      <td>-2.9</td>\n",
       "      <td>2010-03-09 23:37:10</td>\n",
       "      <td>-73.789450</td>\n",
       "      <td>40.643498</td>\n",
       "      <td>-73.788665</td>\n",
       "      <td>40.641952</td>\n",
       "      <td>1.0</td>\n",
       "      <td>2010</td>\n",
       "      <td>9</td>\n",
       "      <td>Tuesday</td>\n",
       "      <td>3</td>\n",
       "      <td>23</td>\n",
       "    </tr>\n",
       "    <tr>\n",
       "      <th>2486</th>\n",
       "      <td>-2.5</td>\n",
       "      <td>2015-03-22 05:14:27</td>\n",
       "      <td>-74.000031</td>\n",
       "      <td>40.720631</td>\n",
       "      <td>-73.999809</td>\n",
       "      <td>40.720539</td>\n",
       "      <td>1.0</td>\n",
       "      <td>2015</td>\n",
       "      <td>22</td>\n",
       "      <td>Sunday</td>\n",
       "      <td>3</td>\n",
       "      <td>5</td>\n",
       "    </tr>\n",
       "    <tr>\n",
       "      <th>13032</th>\n",
       "      <td>-3.0</td>\n",
       "      <td>2013-08-30 08:57:10</td>\n",
       "      <td>-73.995062</td>\n",
       "      <td>40.740755</td>\n",
       "      <td>-73.995885</td>\n",
       "      <td>40.741357</td>\n",
       "      <td>4.0</td>\n",
       "      <td>2013</td>\n",
       "      <td>30</td>\n",
       "      <td>Friday</td>\n",
       "      <td>8</td>\n",
       "      <td>8</td>\n",
       "    </tr>\n",
       "  </tbody>\n",
       "</table>\n",
       "</div>"
      ],
      "text/plain": [
       "       fare_amount     pickup_datetime  pickup_longitude  pickup_latitude  \\\n",
       "2039          -2.9 2010-03-09 23:37:10        -73.789450        40.643498   \n",
       "2486          -2.5 2015-03-22 05:14:27        -74.000031        40.720631   \n",
       "13032         -3.0 2013-08-30 08:57:10        -73.995062        40.740755   \n",
       "\n",
       "       dropoff_longitude  dropoff_latitude  passenger_count  pickup_year  \\\n",
       "2039          -73.788665         40.641952              1.0         2010   \n",
       "2486          -73.999809         40.720539              1.0         2015   \n",
       "13032         -73.995885         40.741357              4.0         2013   \n",
       "\n",
       "       pickup_day picup_day  pickup_month  pickup_hour  \n",
       "2039            9   Tuesday             3           23  \n",
       "2486           22    Sunday             3            5  \n",
       "13032          30    Friday             8            8  "
      ]
     },
     "execution_count": 31,
     "metadata": {},
     "output_type": "execute_result"
    }
   ],
   "source": [
    "#DRop the negative value\n",
    "\n",
    "df_train[df_train.fare_amount < 0]\n",
    "#df_train.drop([2039, 2486, 13032, 10002], axis=0, inplace= True)"
   ]
  },
  {
   "cell_type": "code",
   "execution_count": 32,
   "metadata": {
    "scrolled": false
   },
   "outputs": [
    {
     "data": {
      "image/png": "[encoded data removed]",
      "text/plain": [
       "<Figure size 432x288 with 1 Axes>"
      ]
     },
     "metadata": {},
     "output_type": "display_data"
    }
   ],
   "source": [
    "sns.kdeplot(df_train.fare_amount, shade= True)\n",
    "plt.xlabel('Fare_amount');\n",
    "plt.title('Distribution Of Fare');"
   ]
  },
  {
   "cell_type": "code",
   "execution_count": 33,
   "metadata": {},
   "outputs": [
    {
     "name": "stderr",
     "output_type": "stream",
     "text": [
      "C:\\ProgramData\\Anaconda3\\lib\\site-packages\\ipykernel_launcher.py:3: RuntimeWarning: divide by zero encountered in log\n",
      "  This is separate from the ipykernel package so we can avoid doing imports until\n",
      "C:\\ProgramData\\Anaconda3\\lib\\site-packages\\ipykernel_launcher.py:3: RuntimeWarning: invalid value encountered in log\n",
      "  This is separate from the ipykernel package so we can avoid doing imports until\n",
      "C:\\ProgramData\\Anaconda3\\lib\\site-packages\\statsmodels\\nonparametric\\kde.py:454: RuntimeWarning: invalid value encountered in greater\n",
      "  X = X[np.logical_and(X>clip[0], X<clip[1])] # won't work for two columns.\n",
      "C:\\ProgramData\\Anaconda3\\lib\\site-packages\\statsmodels\\nonparametric\\kde.py:454: RuntimeWarning: invalid value encountered in less\n",
      "  X = X[np.logical_and(X>clip[0], X<clip[1])] # won't work for two columns.\n"
     ]
    },
    {
     "data": {
      "text/plain": [
       "Text(0.5,1,'Distribution Of Fare_amount(log_scale)')"
      ]
     },
     "execution_count": 33,
     "metadata": {},
     "output_type": "execute_result"
    },
    {
     "data": {
      "image/png": "[encoded data removed]",
      "text/plain": [
       "<Figure size 576x360 with 1 Axes>"
      ]
     },
     "metadata": {},
     "output_type": "display_data"
    }
   ],
   "source": [
    "# Plot the log transformed fare amount\n",
    "plt.figure(figsize=(8,5))\n",
    "sns.kdeplot(np.log(df_train.fare_amount), shade= True)\n",
    "plt.title(\"Distribution Of Fare_amount(log_scale)\")"
   ]
  },
  {
   "cell_type": "code",
   "execution_count": 34,
   "metadata": {
    "scrolled": false
   },
   "outputs": [
    {
     "data": {
      "text/plain": [
       "Index(['fare_amount', 'pickup_datetime', 'pickup_longitude', 'pickup_latitude',\n",
       "       'dropoff_longitude', 'dropoff_latitude', 'passenger_count',\n",
       "       'pickup_year', 'pickup_day', 'picup_day', 'pickup_month',\n",
       "       'pickup_hour'],\n",
       "      dtype='object')"
      ]
     },
     "execution_count": 34,
     "metadata": {},
     "output_type": "execute_result"
    }
   ],
   "source": [
    "df_train.columns\n"
   ]
  },
  {
   "cell_type": "markdown",
   "metadata": {},
   "source": [
    "## Lets See which year having maximum number of trip"
   ]
  },
  {
   "cell_type": "code",
   "execution_count": null,
   "metadata": {},
   "outputs": [],
   "source": []
  },
  {
   "cell_type": "code",
   "execution_count": 35,
   "metadata": {},
   "outputs": [
    {
     "data": {
      "text/plain": [
       "Text(0.5,1,' Pickup_Year V/S Avg Fare Amount')"
      ]
     },
     "execution_count": 35,
     "metadata": {},
     "output_type": "execute_result"
    },
    {
     "data": {
      "image/png": "[encoded data removed]",
      "text/plain": [
       "<Figure size 576x360 with 1 Axes>"
      ]
     },
     "metadata": {},
     "output_type": "display_data"
    }
   ],
   "source": [
    "plt.figure(figsize= (8, 5)) \n",
    "\n",
    "pickupYear_FareAmout= df_train.groupby([\"pickup_year\"])[\"fare_amount\"].mean().reset_index()\n",
    "pickupYear_FareAmout= pickupYear_FareAmout.rename(columns= {\"fare_amount\": \"Avg_fareAmount\"})\n",
    "sns.barplot(x= \"pickup_year\", y= \"Avg_fareAmount\", data= pickupYear_FareAmout)\n",
    "plt.title(\" Pickup_Year V/S Avg Fare Amount\")\n",
    "\n",
    "\n",
    "\n",
    "\n"
   ]
  },
  {
   "cell_type": "markdown",
   "metadata": {
    "raw_mimetype": "text/latex"
   },
   "source": [
    "## Average Fare Amount is increasing over the years"
   ]
  },
  {
   "cell_type": "code",
   "execution_count": 36,
   "metadata": {},
   "outputs": [
    {
     "data": {
      "text/plain": [
       "Text(0.5,1,'Pickup_month V/S Avg fare Per month')"
      ]
     },
     "execution_count": 36,
     "metadata": {},
     "output_type": "execute_result"
    },
    {
     "data": {
      "image/png": "[encoded data removed]",
      "text/plain": [
       "<Figure size 1080x576 with 2 Axes>"
      ]
     },
     "metadata": {},
     "output_type": "display_data"
    }
   ],
   "source": [
    " plt.subplot(1,2,1)\n",
    "df_train.pickup_month.value_counts().plot(kind= \"bar\", figsize= (15, 8))\n",
    "plt.xlabel(\"pickup_month\")\n",
    "plt.ylabel(\"trip_counts\")\n",
    "plt.title(\"Number of trips over month\")\n",
    "\n",
    "plt.subplot(1,2,2)\n",
    "\n",
    "avg_fare_month= df_train.groupby([\"pickup_month\"])[\"fare_amount\"].mean().reset_index().rename(columns= {\"fare_amount\": \"Avg_fare_amount\"})\n",
    "sns.barplot(x= \"pickup_month\", y= \"Avg_fare_amount\", data=avg_fare_month)\n",
    "plt.title(\"Pickup_month V/S Avg fare Per month\")\n",
    "\n"
   ]
  },
  {
   "cell_type": "markdown",
   "metadata": {},
   "source": [
    "<font color='blue'>As We can see number of trips is higher in Jan to June after that the number of trips decreasing and avg fair amount is almost constant throughout the months</font>"
   ]
  },
  {
   "cell_type": "markdown",
   "metadata": {},
   "source": [
    "###  Relationship B/W Day of the week and fare Amount"
   ]
  },
  {
   "cell_type": "code",
   "execution_count": 37,
   "metadata": {},
   "outputs": [
    {
     "data": {
      "text/plain": [
       "(array([0, 1, 2, 3, 4, 5, 6]), <a list of 7 Text xticklabel objects>)"
      ]
     },
     "execution_count": 37,
     "metadata": {},
     "output_type": "execute_result"
    },
    {
     "data": {
      "image/png": "[encoded data removed]",
      "text/plain": [
       "<Figure size 1080x432 with 2 Axes>"
      ]
     },
     "metadata": {},
     "output_type": "display_data"
    }
   ],
   "source": [
    "plt.subplot(1,2,1)\n",
    "df_train.picup_day.value_counts().plot(kind= \"bar\", figsize= (15, 6))\n",
    "plt.xlabel(\"Days of the week\")\n",
    "plt.ylabel(\"num of Trip\")\n",
    "plt.title(\"Number of trip per day\")\n",
    "plt.xticks(rotation=30)\n",
    "\n",
    "# Plotting average fair per day\n",
    "plt.subplot(1,2,2)\n",
    "avg_fare_per_day= df_train.groupby([\"picup_day\"])[\"fare_amount\"].mean().reset_index().rename(columns={\"fare_amount\": \"Avg_fare\"})\n",
    "sns.barplot(x= \"picup_day\", y= \"Avg_fare\", data= avg_fare_per_day)\n",
    "plt.xlabel(\"Days of the week\")\n",
    "plt.ylabel(\"Average Fare\")\n",
    "plt.title(\"Average fare amount per day of the week\")\n",
    "plt.xticks(rotation=30)\n",
    "\n"
   ]
  },
  {
   "cell_type": "markdown",
   "metadata": {},
   "source": [
    "<font color='blue'>As We can see number of trips is bit lower on sunday and monday, not much difference can be seen on average fare amount throughout the week</font>"
   ]
  },
  {
   "cell_type": "code",
   "execution_count": 38,
   "metadata": {},
   "outputs": [
    {
     "data": {
      "text/plain": [
       "(array([ 0,  1,  2,  3,  4,  5,  6,  7,  8,  9, 10, 11, 12, 13, 14, 15, 16,\n",
       "        17, 18, 19, 20, 21, 22, 23]), <a list of 24 Text xticklabel objects>)"
      ]
     },
     "execution_count": 38,
     "metadata": {},
     "output_type": "execute_result"
    },
    {
     "data": {
      "image/png": "[encoded data removed]",
      "text/plain": [
       "<Figure size 1296x432 with 2 Axes>"
      ]
     },
     "metadata": {},
     "output_type": "display_data"
    }
   ],
   "source": [
    "plt.subplot(1, 2,1)\n",
    "df_train.pickup_hour.value_counts().plot(kind= \"bar\", figsize= (18, 6))\n",
    "plt.xlabel(\"Pickup_hours\")\n",
    "plt.ylabel(\"num of Trip\")\n",
    "plt.title(\"Number of trip on particular hours\")\n",
    "plt.xticks(rotation=45)\n",
    "\n",
    "\n",
    "\n",
    "# Plotting average fair on particular time\n",
    "plt.subplot(1,2,2)\n",
    "avg_fare_by_picTime= df_train.groupby([\"pickup_hour\"])[\"fare_amount\"].mean().reset_index().rename(columns={\"fare_amount\": \"Avg_fare\"})\n",
    "sns.barplot(x= \"pickup_hour\", y= \"Avg_fare\", data= avg_fare_by_picTime)\n",
    "plt.title(\"Average fare amount V/S Pickup_hour\")\n",
    "plt.xticks(rotation=45)\n",
    "\n",
    "\n"
   ]
  },
  {
   "cell_type": "code",
   "execution_count": 39,
   "metadata": {},
   "outputs": [
    {
     "data": {
      "text/html": [
       "<div>\n",
       "<style scoped>\n",
       "    .dataframe tbody tr th:only-of-type {\n",
       "        vertical-align: middle;\n",
       "    }\n",
       "\n",
       "    .dataframe tbody tr th {\n",
       "        vertical-align: top;\n",
       "    }\n",
       "\n",
       "    .dataframe thead th {\n",
       "        text-align: right;\n",
       "    }\n",
       "</style>\n",
       "<table border=\"1\" class=\"dataframe\">\n",
       "  <thead>\n",
       "    <tr style=\"text-align: right;\">\n",
       "      <th></th>\n",
       "      <th>fare_amount</th>\n",
       "      <th>pickup_datetime</th>\n",
       "      <th>pickup_longitude</th>\n",
       "      <th>pickup_latitude</th>\n",
       "      <th>dropoff_longitude</th>\n",
       "      <th>dropoff_latitude</th>\n",
       "      <th>passenger_count</th>\n",
       "      <th>pickup_year</th>\n",
       "      <th>pickup_day</th>\n",
       "      <th>picup_day</th>\n",
       "      <th>pickup_month</th>\n",
       "      <th>pickup_hour</th>\n",
       "    </tr>\n",
       "  </thead>\n",
       "  <tbody>\n",
       "    <tr>\n",
       "      <th>11</th>\n",
       "      <td>5.5</td>\n",
       "      <td>2012-12-24 11:24:00</td>\n",
       "      <td>0.0</td>\n",
       "      <td>0.0</td>\n",
       "      <td>0.000000</td>\n",
       "      <td>0.000000</td>\n",
       "      <td>3.0</td>\n",
       "      <td>2012</td>\n",
       "      <td>24</td>\n",
       "      <td>Monday</td>\n",
       "      <td>12</td>\n",
       "      <td>11</td>\n",
       "    </tr>\n",
       "    <tr>\n",
       "      <th>15</th>\n",
       "      <td>5.0</td>\n",
       "      <td>2013-11-23 12:57:00</td>\n",
       "      <td>0.0</td>\n",
       "      <td>0.0</td>\n",
       "      <td>0.000000</td>\n",
       "      <td>0.000000</td>\n",
       "      <td>1.0</td>\n",
       "      <td>2013</td>\n",
       "      <td>23</td>\n",
       "      <td>Saturday</td>\n",
       "      <td>11</td>\n",
       "      <td>12</td>\n",
       "    </tr>\n",
       "    <tr>\n",
       "      <th>26</th>\n",
       "      <td>8.5</td>\n",
       "      <td>2011-02-07 20:01:00</td>\n",
       "      <td>0.0</td>\n",
       "      <td>0.0</td>\n",
       "      <td>0.000000</td>\n",
       "      <td>0.000000</td>\n",
       "      <td>1.0</td>\n",
       "      <td>2011</td>\n",
       "      <td>7</td>\n",
       "      <td>Monday</td>\n",
       "      <td>2</td>\n",
       "      <td>20</td>\n",
       "    </tr>\n",
       "    <tr>\n",
       "      <th>124</th>\n",
       "      <td>8.0</td>\n",
       "      <td>2013-01-17 17:22:00</td>\n",
       "      <td>0.0</td>\n",
       "      <td>0.0</td>\n",
       "      <td>0.000000</td>\n",
       "      <td>0.000000</td>\n",
       "      <td>2.0</td>\n",
       "      <td>2013</td>\n",
       "      <td>17</td>\n",
       "      <td>Thursday</td>\n",
       "      <td>1</td>\n",
       "      <td>17</td>\n",
       "    </tr>\n",
       "    <tr>\n",
       "      <th>192</th>\n",
       "      <td>3.7</td>\n",
       "      <td>2010-09-05 17:08:00</td>\n",
       "      <td>0.0</td>\n",
       "      <td>0.0</td>\n",
       "      <td>0.000000</td>\n",
       "      <td>0.000000</td>\n",
       "      <td>5.0</td>\n",
       "      <td>2010</td>\n",
       "      <td>5</td>\n",
       "      <td>Sunday</td>\n",
       "      <td>9</td>\n",
       "      <td>17</td>\n",
       "    </tr>\n",
       "    <tr>\n",
       "      <th>233</th>\n",
       "      <td>8.5</td>\n",
       "      <td>2011-07-24 01:14:35</td>\n",
       "      <td>0.0</td>\n",
       "      <td>0.0</td>\n",
       "      <td>0.000000</td>\n",
       "      <td>0.000000</td>\n",
       "      <td>236.0</td>\n",
       "      <td>2011</td>\n",
       "      <td>24</td>\n",
       "      <td>Sunday</td>\n",
       "      <td>7</td>\n",
       "      <td>1</td>\n",
       "    </tr>\n",
       "    <tr>\n",
       "      <th>273</th>\n",
       "      <td>8.1</td>\n",
       "      <td>2009-10-30 18:13:00</td>\n",
       "      <td>0.0</td>\n",
       "      <td>0.0</td>\n",
       "      <td>0.000000</td>\n",
       "      <td>0.000000</td>\n",
       "      <td>4.0</td>\n",
       "      <td>2009</td>\n",
       "      <td>30</td>\n",
       "      <td>Friday</td>\n",
       "      <td>10</td>\n",
       "      <td>18</td>\n",
       "    </tr>\n",
       "    <tr>\n",
       "      <th>357</th>\n",
       "      <td>8.5</td>\n",
       "      <td>2013-07-04 16:41:27</td>\n",
       "      <td>0.0</td>\n",
       "      <td>0.0</td>\n",
       "      <td>0.000000</td>\n",
       "      <td>0.000000</td>\n",
       "      <td>1.0</td>\n",
       "      <td>2013</td>\n",
       "      <td>4</td>\n",
       "      <td>Thursday</td>\n",
       "      <td>7</td>\n",
       "      <td>16</td>\n",
       "    </tr>\n",
       "    <tr>\n",
       "      <th>376</th>\n",
       "      <td>2.5</td>\n",
       "      <td>2014-05-29 05:57:22</td>\n",
       "      <td>0.0</td>\n",
       "      <td>0.0</td>\n",
       "      <td>0.000000</td>\n",
       "      <td>0.000000</td>\n",
       "      <td>1.0</td>\n",
       "      <td>2014</td>\n",
       "      <td>29</td>\n",
       "      <td>Thursday</td>\n",
       "      <td>5</td>\n",
       "      <td>5</td>\n",
       "    </tr>\n",
       "    <tr>\n",
       "      <th>387</th>\n",
       "      <td>13.0</td>\n",
       "      <td>2012-11-15 08:39:00</td>\n",
       "      <td>0.0</td>\n",
       "      <td>0.0</td>\n",
       "      <td>0.000000</td>\n",
       "      <td>0.000000</td>\n",
       "      <td>1.0</td>\n",
       "      <td>2012</td>\n",
       "      <td>15</td>\n",
       "      <td>Thursday</td>\n",
       "      <td>11</td>\n",
       "      <td>8</td>\n",
       "    </tr>\n",
       "    <tr>\n",
       "      <th>472</th>\n",
       "      <td>2.5</td>\n",
       "      <td>2009-02-22 22:48:00</td>\n",
       "      <td>0.0</td>\n",
       "      <td>0.0</td>\n",
       "      <td>-74.005433</td>\n",
       "      <td>40.726685</td>\n",
       "      <td>2.0</td>\n",
       "      <td>2009</td>\n",
       "      <td>22</td>\n",
       "      <td>Sunday</td>\n",
       "      <td>2</td>\n",
       "      <td>22</td>\n",
       "    </tr>\n",
       "    <tr>\n",
       "      <th>498</th>\n",
       "      <td>8.5</td>\n",
       "      <td>2009-03-16 04:47:17</td>\n",
       "      <td>0.0</td>\n",
       "      <td>0.0</td>\n",
       "      <td>0.000000</td>\n",
       "      <td>0.000000</td>\n",
       "      <td>1.0</td>\n",
       "      <td>2009</td>\n",
       "      <td>16</td>\n",
       "      <td>Monday</td>\n",
       "      <td>3</td>\n",
       "      <td>4</td>\n",
       "    </tr>\n",
       "    <tr>\n",
       "      <th>540</th>\n",
       "      <td>16.0</td>\n",
       "      <td>2013-10-29 01:09:14</td>\n",
       "      <td>0.0</td>\n",
       "      <td>0.0</td>\n",
       "      <td>0.000000</td>\n",
       "      <td>0.000000</td>\n",
       "      <td>1.0</td>\n",
       "      <td>2013</td>\n",
       "      <td>29</td>\n",
       "      <td>Tuesday</td>\n",
       "      <td>10</td>\n",
       "      <td>1</td>\n",
       "    </tr>\n",
       "    <tr>\n",
       "      <th>542</th>\n",
       "      <td>4.5</td>\n",
       "      <td>2009-12-29 14:23:00</td>\n",
       "      <td>0.0</td>\n",
       "      <td>0.0</td>\n",
       "      <td>0.000000</td>\n",
       "      <td>0.000000</td>\n",
       "      <td>1.0</td>\n",
       "      <td>2009</td>\n",
       "      <td>29</td>\n",
       "      <td>Tuesday</td>\n",
       "      <td>12</td>\n",
       "      <td>14</td>\n",
       "    </tr>\n",
       "    <tr>\n",
       "      <th>568</th>\n",
       "      <td>6.5</td>\n",
       "      <td>2014-10-08 06:49:18</td>\n",
       "      <td>0.0</td>\n",
       "      <td>0.0</td>\n",
       "      <td>0.000000</td>\n",
       "      <td>0.000000</td>\n",
       "      <td>1.0</td>\n",
       "      <td>2014</td>\n",
       "      <td>8</td>\n",
       "      <td>Wednesday</td>\n",
       "      <td>10</td>\n",
       "      <td>6</td>\n",
       "    </tr>\n",
       "    <tr>\n",
       "      <th>660</th>\n",
       "      <td>13.3</td>\n",
       "      <td>2010-08-18 03:46:00</td>\n",
       "      <td>0.0</td>\n",
       "      <td>0.0</td>\n",
       "      <td>0.000000</td>\n",
       "      <td>0.000000</td>\n",
       "      <td>5.0</td>\n",
       "      <td>2010</td>\n",
       "      <td>18</td>\n",
       "      <td>Wednesday</td>\n",
       "      <td>8</td>\n",
       "      <td>3</td>\n",
       "    </tr>\n",
       "    <tr>\n",
       "      <th>728</th>\n",
       "      <td>11.7</td>\n",
       "      <td>2010-02-13 01:52:11</td>\n",
       "      <td>0.0</td>\n",
       "      <td>0.0</td>\n",
       "      <td>0.000000</td>\n",
       "      <td>0.000000</td>\n",
       "      <td>1.0</td>\n",
       "      <td>2010</td>\n",
       "      <td>13</td>\n",
       "      <td>Saturday</td>\n",
       "      <td>2</td>\n",
       "      <td>1</td>\n",
       "    </tr>\n",
       "    <tr>\n",
       "      <th>799</th>\n",
       "      <td>3.0</td>\n",
       "      <td>2013-12-08 23:39:00</td>\n",
       "      <td>0.0</td>\n",
       "      <td>0.0</td>\n",
       "      <td>0.000000</td>\n",
       "      <td>0.000000</td>\n",
       "      <td>5.0</td>\n",
       "      <td>2013</td>\n",
       "      <td>8</td>\n",
       "      <td>Sunday</td>\n",
       "      <td>12</td>\n",
       "      <td>23</td>\n",
       "    </tr>\n",
       "    <tr>\n",
       "      <th>872</th>\n",
       "      <td>8.5</td>\n",
       "      <td>2011-09-25 02:07:00</td>\n",
       "      <td>0.0</td>\n",
       "      <td>0.0</td>\n",
       "      <td>0.000000</td>\n",
       "      <td>0.000000</td>\n",
       "      <td>1.0</td>\n",
       "      <td>2011</td>\n",
       "      <td>25</td>\n",
       "      <td>Sunday</td>\n",
       "      <td>9</td>\n",
       "      <td>2</td>\n",
       "    </tr>\n",
       "    <tr>\n",
       "      <th>881</th>\n",
       "      <td>8.5</td>\n",
       "      <td>2011-07-19 23:43:12</td>\n",
       "      <td>0.0</td>\n",
       "      <td>0.0</td>\n",
       "      <td>0.000000</td>\n",
       "      <td>0.000000</td>\n",
       "      <td>1.0</td>\n",
       "      <td>2011</td>\n",
       "      <td>19</td>\n",
       "      <td>Tuesday</td>\n",
       "      <td>7</td>\n",
       "      <td>23</td>\n",
       "    </tr>\n",
       "    <tr>\n",
       "      <th>887</th>\n",
       "      <td>12.0</td>\n",
       "      <td>2014-09-26 19:41:41</td>\n",
       "      <td>0.0</td>\n",
       "      <td>0.0</td>\n",
       "      <td>0.000000</td>\n",
       "      <td>0.000000</td>\n",
       "      <td>1.0</td>\n",
       "      <td>2014</td>\n",
       "      <td>26</td>\n",
       "      <td>Friday</td>\n",
       "      <td>9</td>\n",
       "      <td>19</td>\n",
       "    </tr>\n",
       "    <tr>\n",
       "      <th>958</th>\n",
       "      <td>2.5</td>\n",
       "      <td>2011-02-22 14:09:00</td>\n",
       "      <td>0.0</td>\n",
       "      <td>0.0</td>\n",
       "      <td>0.000000</td>\n",
       "      <td>0.000000</td>\n",
       "      <td>5.0</td>\n",
       "      <td>2011</td>\n",
       "      <td>22</td>\n",
       "      <td>Tuesday</td>\n",
       "      <td>2</td>\n",
       "      <td>14</td>\n",
       "    </tr>\n",
       "    <tr>\n",
       "      <th>960</th>\n",
       "      <td>12.5</td>\n",
       "      <td>2013-05-31 05:02:30</td>\n",
       "      <td>0.0</td>\n",
       "      <td>0.0</td>\n",
       "      <td>0.000000</td>\n",
       "      <td>0.000000</td>\n",
       "      <td>1.0</td>\n",
       "      <td>2013</td>\n",
       "      <td>31</td>\n",
       "      <td>Friday</td>\n",
       "      <td>5</td>\n",
       "      <td>5</td>\n",
       "    </tr>\n",
       "    <tr>\n",
       "      <th>964</th>\n",
       "      <td>14.1</td>\n",
       "      <td>2009-06-30 10:20:09</td>\n",
       "      <td>0.0</td>\n",
       "      <td>0.0</td>\n",
       "      <td>0.000000</td>\n",
       "      <td>0.000000</td>\n",
       "      <td>1.0</td>\n",
       "      <td>2009</td>\n",
       "      <td>30</td>\n",
       "      <td>Tuesday</td>\n",
       "      <td>6</td>\n",
       "      <td>10</td>\n",
       "    </tr>\n",
       "    <tr>\n",
       "      <th>1314</th>\n",
       "      <td>11.5</td>\n",
       "      <td>2012-09-20 20:06:50</td>\n",
       "      <td>0.0</td>\n",
       "      <td>0.0</td>\n",
       "      <td>0.000000</td>\n",
       "      <td>0.000000</td>\n",
       "      <td>1.0</td>\n",
       "      <td>2012</td>\n",
       "      <td>20</td>\n",
       "      <td>Thursday</td>\n",
       "      <td>9</td>\n",
       "      <td>20</td>\n",
       "    </tr>\n",
       "    <tr>\n",
       "      <th>1316</th>\n",
       "      <td>8.5</td>\n",
       "      <td>2014-06-17 17:50:00</td>\n",
       "      <td>0.0</td>\n",
       "      <td>0.0</td>\n",
       "      <td>0.000000</td>\n",
       "      <td>0.000000</td>\n",
       "      <td>1.0</td>\n",
       "      <td>2014</td>\n",
       "      <td>17</td>\n",
       "      <td>Tuesday</td>\n",
       "      <td>6</td>\n",
       "      <td>17</td>\n",
       "    </tr>\n",
       "    <tr>\n",
       "      <th>1397</th>\n",
       "      <td>4.5</td>\n",
       "      <td>2009-02-17 07:30:00</td>\n",
       "      <td>0.0</td>\n",
       "      <td>0.0</td>\n",
       "      <td>0.000000</td>\n",
       "      <td>0.000000</td>\n",
       "      <td>2.0</td>\n",
       "      <td>2009</td>\n",
       "      <td>17</td>\n",
       "      <td>Tuesday</td>\n",
       "      <td>2</td>\n",
       "      <td>7</td>\n",
       "    </tr>\n",
       "    <tr>\n",
       "      <th>1542</th>\n",
       "      <td>3.7</td>\n",
       "      <td>2011-05-18 00:32:00</td>\n",
       "      <td>0.0</td>\n",
       "      <td>0.0</td>\n",
       "      <td>0.000000</td>\n",
       "      <td>0.000000</td>\n",
       "      <td>1.0</td>\n",
       "      <td>2011</td>\n",
       "      <td>18</td>\n",
       "      <td>Wednesday</td>\n",
       "      <td>5</td>\n",
       "      <td>0</td>\n",
       "    </tr>\n",
       "    <tr>\n",
       "      <th>1561</th>\n",
       "      <td>10.5</td>\n",
       "      <td>2013-03-01 00:06:41</td>\n",
       "      <td>0.0</td>\n",
       "      <td>0.0</td>\n",
       "      <td>0.000000</td>\n",
       "      <td>0.000000</td>\n",
       "      <td>3.0</td>\n",
       "      <td>2013</td>\n",
       "      <td>1</td>\n",
       "      <td>Friday</td>\n",
       "      <td>3</td>\n",
       "      <td>0</td>\n",
       "    </tr>\n",
       "    <tr>\n",
       "      <th>1595</th>\n",
       "      <td>8.5</td>\n",
       "      <td>2009-12-08 20:22:00</td>\n",
       "      <td>0.0</td>\n",
       "      <td>0.0</td>\n",
       "      <td>0.000000</td>\n",
       "      <td>0.000000</td>\n",
       "      <td>1.0</td>\n",
       "      <td>2009</td>\n",
       "      <td>8</td>\n",
       "      <td>Tuesday</td>\n",
       "      <td>12</td>\n",
       "      <td>20</td>\n",
       "    </tr>\n",
       "    <tr>\n",
       "      <th>...</th>\n",
       "      <td>...</td>\n",
       "      <td>...</td>\n",
       "      <td>...</td>\n",
       "      <td>...</td>\n",
       "      <td>...</td>\n",
       "      <td>...</td>\n",
       "      <td>...</td>\n",
       "      <td>...</td>\n",
       "      <td>...</td>\n",
       "      <td>...</td>\n",
       "      <td>...</td>\n",
       "      <td>...</td>\n",
       "    </tr>\n",
       "    <tr>\n",
       "      <th>14208</th>\n",
       "      <td>4.5</td>\n",
       "      <td>2010-08-20 17:08:00</td>\n",
       "      <td>0.0</td>\n",
       "      <td>0.0</td>\n",
       "      <td>0.000000</td>\n",
       "      <td>0.000000</td>\n",
       "      <td>1.0</td>\n",
       "      <td>2010</td>\n",
       "      <td>20</td>\n",
       "      <td>Friday</td>\n",
       "      <td>8</td>\n",
       "      <td>17</td>\n",
       "    </tr>\n",
       "    <tr>\n",
       "      <th>14229</th>\n",
       "      <td>8.1</td>\n",
       "      <td>2012-06-13 11:47:00</td>\n",
       "      <td>0.0</td>\n",
       "      <td>0.0</td>\n",
       "      <td>0.000000</td>\n",
       "      <td>0.000000</td>\n",
       "      <td>1.0</td>\n",
       "      <td>2012</td>\n",
       "      <td>13</td>\n",
       "      <td>Wednesday</td>\n",
       "      <td>6</td>\n",
       "      <td>11</td>\n",
       "    </tr>\n",
       "    <tr>\n",
       "      <th>14233</th>\n",
       "      <td>13.1</td>\n",
       "      <td>2009-04-08 18:07:57</td>\n",
       "      <td>0.0</td>\n",
       "      <td>0.0</td>\n",
       "      <td>0.000000</td>\n",
       "      <td>0.000000</td>\n",
       "      <td>1.0</td>\n",
       "      <td>2009</td>\n",
       "      <td>8</td>\n",
       "      <td>Wednesday</td>\n",
       "      <td>4</td>\n",
       "      <td>18</td>\n",
       "    </tr>\n",
       "    <tr>\n",
       "      <th>14239</th>\n",
       "      <td>13.5</td>\n",
       "      <td>2013-01-26 12:19:00</td>\n",
       "      <td>0.0</td>\n",
       "      <td>0.0</td>\n",
       "      <td>0.000000</td>\n",
       "      <td>0.000000</td>\n",
       "      <td>2.0</td>\n",
       "      <td>2013</td>\n",
       "      <td>26</td>\n",
       "      <td>Saturday</td>\n",
       "      <td>1</td>\n",
       "      <td>12</td>\n",
       "    </tr>\n",
       "    <tr>\n",
       "      <th>14259</th>\n",
       "      <td>6.0</td>\n",
       "      <td>2013-04-30 20:18:00</td>\n",
       "      <td>0.0</td>\n",
       "      <td>0.0</td>\n",
       "      <td>0.000000</td>\n",
       "      <td>0.000000</td>\n",
       "      <td>1.0</td>\n",
       "      <td>2013</td>\n",
       "      <td>30</td>\n",
       "      <td>Tuesday</td>\n",
       "      <td>4</td>\n",
       "      <td>20</td>\n",
       "    </tr>\n",
       "    <tr>\n",
       "      <th>14304</th>\n",
       "      <td>2.5</td>\n",
       "      <td>2012-03-15 17:27:00</td>\n",
       "      <td>0.0</td>\n",
       "      <td>0.0</td>\n",
       "      <td>0.000000</td>\n",
       "      <td>0.000000</td>\n",
       "      <td>1.0</td>\n",
       "      <td>2012</td>\n",
       "      <td>15</td>\n",
       "      <td>Thursday</td>\n",
       "      <td>3</td>\n",
       "      <td>17</td>\n",
       "    </tr>\n",
       "    <tr>\n",
       "      <th>14308</th>\n",
       "      <td>8.1</td>\n",
       "      <td>2011-11-11 12:03:38</td>\n",
       "      <td>0.0</td>\n",
       "      <td>0.0</td>\n",
       "      <td>-73.990000</td>\n",
       "      <td>40.755400</td>\n",
       "      <td>0.0</td>\n",
       "      <td>2011</td>\n",
       "      <td>11</td>\n",
       "      <td>Friday</td>\n",
       "      <td>11</td>\n",
       "      <td>12</td>\n",
       "    </tr>\n",
       "    <tr>\n",
       "      <th>14331</th>\n",
       "      <td>4.1</td>\n",
       "      <td>2011-02-25 02:40:00</td>\n",
       "      <td>0.0</td>\n",
       "      <td>0.0</td>\n",
       "      <td>0.000000</td>\n",
       "      <td>0.000000</td>\n",
       "      <td>3.0</td>\n",
       "      <td>2011</td>\n",
       "      <td>25</td>\n",
       "      <td>Friday</td>\n",
       "      <td>2</td>\n",
       "      <td>2</td>\n",
       "    </tr>\n",
       "    <tr>\n",
       "      <th>14526</th>\n",
       "      <td>9.0</td>\n",
       "      <td>2014-05-10 00:31:11</td>\n",
       "      <td>0.0</td>\n",
       "      <td>0.0</td>\n",
       "      <td>0.000000</td>\n",
       "      <td>0.000000</td>\n",
       "      <td>2.0</td>\n",
       "      <td>2014</td>\n",
       "      <td>10</td>\n",
       "      <td>Saturday</td>\n",
       "      <td>5</td>\n",
       "      <td>0</td>\n",
       "    </tr>\n",
       "    <tr>\n",
       "      <th>14701</th>\n",
       "      <td>8.9</td>\n",
       "      <td>2009-05-20 18:27:00</td>\n",
       "      <td>0.0</td>\n",
       "      <td>0.0</td>\n",
       "      <td>0.000000</td>\n",
       "      <td>0.000000</td>\n",
       "      <td>5.0</td>\n",
       "      <td>2009</td>\n",
       "      <td>20</td>\n",
       "      <td>Wednesday</td>\n",
       "      <td>5</td>\n",
       "      <td>18</td>\n",
       "    </tr>\n",
       "    <tr>\n",
       "      <th>14737</th>\n",
       "      <td>3.7</td>\n",
       "      <td>2009-08-31 07:04:48</td>\n",
       "      <td>0.0</td>\n",
       "      <td>0.0</td>\n",
       "      <td>0.000000</td>\n",
       "      <td>0.000000</td>\n",
       "      <td>1.0</td>\n",
       "      <td>2009</td>\n",
       "      <td>31</td>\n",
       "      <td>Monday</td>\n",
       "      <td>8</td>\n",
       "      <td>7</td>\n",
       "    </tr>\n",
       "    <tr>\n",
       "      <th>14814</th>\n",
       "      <td>17.3</td>\n",
       "      <td>2012-08-06 00:49:00</td>\n",
       "      <td>0.0</td>\n",
       "      <td>0.0</td>\n",
       "      <td>0.000000</td>\n",
       "      <td>0.000000</td>\n",
       "      <td>5.0</td>\n",
       "      <td>2012</td>\n",
       "      <td>6</td>\n",
       "      <td>Monday</td>\n",
       "      <td>8</td>\n",
       "      <td>0</td>\n",
       "    </tr>\n",
       "    <tr>\n",
       "      <th>14925</th>\n",
       "      <td>6.0</td>\n",
       "      <td>2013-03-11 20:52:47</td>\n",
       "      <td>0.0</td>\n",
       "      <td>0.0</td>\n",
       "      <td>0.000000</td>\n",
       "      <td>0.000000</td>\n",
       "      <td>1.0</td>\n",
       "      <td>2013</td>\n",
       "      <td>11</td>\n",
       "      <td>Monday</td>\n",
       "      <td>3</td>\n",
       "      <td>20</td>\n",
       "    </tr>\n",
       "    <tr>\n",
       "      <th>15012</th>\n",
       "      <td>6.7</td>\n",
       "      <td>2009-01-14 19:43:33</td>\n",
       "      <td>0.0</td>\n",
       "      <td>0.0</td>\n",
       "      <td>0.000000</td>\n",
       "      <td>0.000000</td>\n",
       "      <td>1.0</td>\n",
       "      <td>2009</td>\n",
       "      <td>14</td>\n",
       "      <td>Wednesday</td>\n",
       "      <td>1</td>\n",
       "      <td>19</td>\n",
       "    </tr>\n",
       "    <tr>\n",
       "      <th>15024</th>\n",
       "      <td>6.1</td>\n",
       "      <td>2011-11-15 09:54:00</td>\n",
       "      <td>0.0</td>\n",
       "      <td>0.0</td>\n",
       "      <td>0.000000</td>\n",
       "      <td>0.000000</td>\n",
       "      <td>2.0</td>\n",
       "      <td>2011</td>\n",
       "      <td>15</td>\n",
       "      <td>Tuesday</td>\n",
       "      <td>11</td>\n",
       "      <td>9</td>\n",
       "    </tr>\n",
       "    <tr>\n",
       "      <th>15027</th>\n",
       "      <td>8.0</td>\n",
       "      <td>2013-12-22 09:51:38</td>\n",
       "      <td>0.0</td>\n",
       "      <td>0.0</td>\n",
       "      <td>0.000000</td>\n",
       "      <td>0.000000</td>\n",
       "      <td>1.0</td>\n",
       "      <td>2013</td>\n",
       "      <td>22</td>\n",
       "      <td>Sunday</td>\n",
       "      <td>12</td>\n",
       "      <td>9</td>\n",
       "    </tr>\n",
       "    <tr>\n",
       "      <th>15203</th>\n",
       "      <td>3.5</td>\n",
       "      <td>2014-04-09 21:27:16</td>\n",
       "      <td>0.0</td>\n",
       "      <td>0.0</td>\n",
       "      <td>0.000000</td>\n",
       "      <td>0.000000</td>\n",
       "      <td>1.0</td>\n",
       "      <td>2014</td>\n",
       "      <td>9</td>\n",
       "      <td>Wednesday</td>\n",
       "      <td>4</td>\n",
       "      <td>21</td>\n",
       "    </tr>\n",
       "    <tr>\n",
       "      <th>15252</th>\n",
       "      <td>11.3</td>\n",
       "      <td>2011-10-08 19:18:00</td>\n",
       "      <td>0.0</td>\n",
       "      <td>0.0</td>\n",
       "      <td>0.000000</td>\n",
       "      <td>0.000000</td>\n",
       "      <td>3.0</td>\n",
       "      <td>2011</td>\n",
       "      <td>8</td>\n",
       "      <td>Saturday</td>\n",
       "      <td>10</td>\n",
       "      <td>19</td>\n",
       "    </tr>\n",
       "    <tr>\n",
       "      <th>15379</th>\n",
       "      <td>5.5</td>\n",
       "      <td>2014-06-03 00:12:00</td>\n",
       "      <td>0.0</td>\n",
       "      <td>0.0</td>\n",
       "      <td>0.000000</td>\n",
       "      <td>0.000000</td>\n",
       "      <td>5.0</td>\n",
       "      <td>2014</td>\n",
       "      <td>3</td>\n",
       "      <td>Tuesday</td>\n",
       "      <td>6</td>\n",
       "      <td>0</td>\n",
       "    </tr>\n",
       "    <tr>\n",
       "      <th>15381</th>\n",
       "      <td>4.9</td>\n",
       "      <td>2010-12-24 00:49:26</td>\n",
       "      <td>0.0</td>\n",
       "      <td>0.0</td>\n",
       "      <td>0.000000</td>\n",
       "      <td>0.000000</td>\n",
       "      <td>4.0</td>\n",
       "      <td>2010</td>\n",
       "      <td>24</td>\n",
       "      <td>Friday</td>\n",
       "      <td>12</td>\n",
       "      <td>0</td>\n",
       "    </tr>\n",
       "    <tr>\n",
       "      <th>15402</th>\n",
       "      <td>13.5</td>\n",
       "      <td>2014-05-17 11:59:00</td>\n",
       "      <td>0.0</td>\n",
       "      <td>0.0</td>\n",
       "      <td>0.000000</td>\n",
       "      <td>0.000000</td>\n",
       "      <td>1.0</td>\n",
       "      <td>2014</td>\n",
       "      <td>17</td>\n",
       "      <td>Saturday</td>\n",
       "      <td>5</td>\n",
       "      <td>11</td>\n",
       "    </tr>\n",
       "    <tr>\n",
       "      <th>15418</th>\n",
       "      <td>7.0</td>\n",
       "      <td>2014-12-12 20:01:00</td>\n",
       "      <td>0.0</td>\n",
       "      <td>0.0</td>\n",
       "      <td>0.000000</td>\n",
       "      <td>0.000000</td>\n",
       "      <td>2.0</td>\n",
       "      <td>2014</td>\n",
       "      <td>12</td>\n",
       "      <td>Friday</td>\n",
       "      <td>12</td>\n",
       "      <td>20</td>\n",
       "    </tr>\n",
       "    <tr>\n",
       "      <th>15665</th>\n",
       "      <td>11.3</td>\n",
       "      <td>2012-07-01 21:47:30</td>\n",
       "      <td>0.0</td>\n",
       "      <td>0.0</td>\n",
       "      <td>0.000000</td>\n",
       "      <td>0.000000</td>\n",
       "      <td>1.0</td>\n",
       "      <td>2012</td>\n",
       "      <td>1</td>\n",
       "      <td>Sunday</td>\n",
       "      <td>7</td>\n",
       "      <td>21</td>\n",
       "    </tr>\n",
       "    <tr>\n",
       "      <th>15764</th>\n",
       "      <td>12.9</td>\n",
       "      <td>2011-08-12 14:35:00</td>\n",
       "      <td>0.0</td>\n",
       "      <td>0.0</td>\n",
       "      <td>0.000000</td>\n",
       "      <td>0.000000</td>\n",
       "      <td>1.0</td>\n",
       "      <td>2011</td>\n",
       "      <td>12</td>\n",
       "      <td>Friday</td>\n",
       "      <td>8</td>\n",
       "      <td>14</td>\n",
       "    </tr>\n",
       "    <tr>\n",
       "      <th>15911</th>\n",
       "      <td>5.7</td>\n",
       "      <td>2011-04-07 07:54:53</td>\n",
       "      <td>0.0</td>\n",
       "      <td>0.0</td>\n",
       "      <td>0.000000</td>\n",
       "      <td>0.000000</td>\n",
       "      <td>1.0</td>\n",
       "      <td>2011</td>\n",
       "      <td>7</td>\n",
       "      <td>Thursday</td>\n",
       "      <td>4</td>\n",
       "      <td>7</td>\n",
       "    </tr>\n",
       "    <tr>\n",
       "      <th>15919</th>\n",
       "      <td>16.5</td>\n",
       "      <td>2011-10-17 08:58:54</td>\n",
       "      <td>0.0</td>\n",
       "      <td>0.0</td>\n",
       "      <td>-73.999700</td>\n",
       "      <td>40.734500</td>\n",
       "      <td>0.0</td>\n",
       "      <td>2011</td>\n",
       "      <td>17</td>\n",
       "      <td>Monday</td>\n",
       "      <td>10</td>\n",
       "      <td>8</td>\n",
       "    </tr>\n",
       "    <tr>\n",
       "      <th>15920</th>\n",
       "      <td>8.1</td>\n",
       "      <td>2012-05-18 04:44:00</td>\n",
       "      <td>0.0</td>\n",
       "      <td>0.0</td>\n",
       "      <td>0.000000</td>\n",
       "      <td>0.000000</td>\n",
       "      <td>1.0</td>\n",
       "      <td>2012</td>\n",
       "      <td>18</td>\n",
       "      <td>Friday</td>\n",
       "      <td>5</td>\n",
       "      <td>4</td>\n",
       "    </tr>\n",
       "    <tr>\n",
       "      <th>15929</th>\n",
       "      <td>10.9</td>\n",
       "      <td>2010-05-18 20:34:00</td>\n",
       "      <td>0.0</td>\n",
       "      <td>0.0</td>\n",
       "      <td>0.000000</td>\n",
       "      <td>0.000000</td>\n",
       "      <td>5.0</td>\n",
       "      <td>2010</td>\n",
       "      <td>18</td>\n",
       "      <td>Tuesday</td>\n",
       "      <td>5</td>\n",
       "      <td>20</td>\n",
       "    </tr>\n",
       "    <tr>\n",
       "      <th>15937</th>\n",
       "      <td>3.3</td>\n",
       "      <td>2009-10-01 20:32:00</td>\n",
       "      <td>0.0</td>\n",
       "      <td>0.0</td>\n",
       "      <td>0.000000</td>\n",
       "      <td>0.000000</td>\n",
       "      <td>3.0</td>\n",
       "      <td>2009</td>\n",
       "      <td>1</td>\n",
       "      <td>Thursday</td>\n",
       "      <td>10</td>\n",
       "      <td>20</td>\n",
       "    </tr>\n",
       "    <tr>\n",
       "      <th>16014</th>\n",
       "      <td>10.9</td>\n",
       "      <td>2011-03-04 14:05:00</td>\n",
       "      <td>0.0</td>\n",
       "      <td>0.0</td>\n",
       "      <td>0.000000</td>\n",
       "      <td>0.000000</td>\n",
       "      <td>2.0</td>\n",
       "      <td>2011</td>\n",
       "      <td>4</td>\n",
       "      <td>Friday</td>\n",
       "      <td>3</td>\n",
       "      <td>14</td>\n",
       "    </tr>\n",
       "  </tbody>\n",
       "</table>\n",
       "<p>281 rows × 12 columns</p>\n",
       "</div>"
      ],
      "text/plain": [
       "       fare_amount     pickup_datetime  pickup_longitude  pickup_latitude  \\\n",
       "11             5.5 2012-12-24 11:24:00               0.0              0.0   \n",
       "15             5.0 2013-11-23 12:57:00               0.0              0.0   \n",
       "26             8.5 2011-02-07 20:01:00               0.0              0.0   \n",
       "124            8.0 2013-01-17 17:22:00               0.0              0.0   \n",
       "192            3.7 2010-09-05 17:08:00               0.0              0.0   \n",
       "233            8.5 2011-07-24 01:14:35               0.0              0.0   \n",
       "273            8.1 2009-10-30 18:13:00               0.0              0.0   \n",
       "357            8.5 2013-07-04 16:41:27               0.0              0.0   \n",
       "376            2.5 2014-05-29 05:57:22               0.0              0.0   \n",
       "387           13.0 2012-11-15 08:39:00               0.0              0.0   \n",
       "472            2.5 2009-02-22 22:48:00               0.0              0.0   \n",
       "498            8.5 2009-03-16 04:47:17               0.0              0.0   \n",
       "540           16.0 2013-10-29 01:09:14               0.0              0.0   \n",
       "542            4.5 2009-12-29 14:23:00               0.0              0.0   \n",
       "568            6.5 2014-10-08 06:49:18               0.0              0.0   \n",
       "660           13.3 2010-08-18 03:46:00               0.0              0.0   \n",
       "728           11.7 2010-02-13 01:52:11               0.0              0.0   \n",
       "799            3.0 2013-12-08 23:39:00               0.0              0.0   \n",
       "872            8.5 2011-09-25 02:07:00               0.0              0.0   \n",
       "881            8.5 2011-07-19 23:43:12               0.0              0.0   \n",
       "887           12.0 2014-09-26 19:41:41               0.0              0.0   \n",
       "958            2.5 2011-02-22 14:09:00               0.0              0.0   \n",
       "960           12.5 2013-05-31 05:02:30               0.0              0.0   \n",
       "964           14.1 2009-06-30 10:20:09               0.0              0.0   \n",
       "1314          11.5 2012-09-20 20:06:50               0.0              0.0   \n",
       "1316           8.5 2014-06-17 17:50:00               0.0              0.0   \n",
       "1397           4.5 2009-02-17 07:30:00               0.0              0.0   \n",
       "1542           3.7 2011-05-18 00:32:00               0.0              0.0   \n",
       "1561          10.5 2013-03-01 00:06:41               0.0              0.0   \n",
       "1595           8.5 2009-12-08 20:22:00               0.0              0.0   \n",
       "...            ...                 ...               ...              ...   \n",
       "14208          4.5 2010-08-20 17:08:00               0.0              0.0   \n",
       "14229          8.1 2012-06-13 11:47:00               0.0              0.0   \n",
       "14233         13.1 2009-04-08 18:07:57               0.0              0.0   \n",
       "14239         13.5 2013-01-26 12:19:00               0.0              0.0   \n",
       "14259          6.0 2013-04-30 20:18:00               0.0              0.0   \n",
       "14304          2.5 2012-03-15 17:27:00               0.0              0.0   \n",
       "14308          8.1 2011-11-11 12:03:38               0.0              0.0   \n",
       "14331          4.1 2011-02-25 02:40:00               0.0              0.0   \n",
       "14526          9.0 2014-05-10 00:31:11               0.0              0.0   \n",
       "14701          8.9 2009-05-20 18:27:00               0.0              0.0   \n",
       "14737          3.7 2009-08-31 07:04:48               0.0              0.0   \n",
       "14814         17.3 2012-08-06 00:49:00               0.0              0.0   \n",
       "14925          6.0 2013-03-11 20:52:47               0.0              0.0   \n",
       "15012          6.7 2009-01-14 19:43:33               0.0              0.0   \n",
       "15024          6.1 2011-11-15 09:54:00               0.0              0.0   \n",
       "15027          8.0 2013-12-22 09:51:38               0.0              0.0   \n",
       "15203          3.5 2014-04-09 21:27:16               0.0              0.0   \n",
       "15252         11.3 2011-10-08 19:18:00               0.0              0.0   \n",
       "15379          5.5 2014-06-03 00:12:00               0.0              0.0   \n",
       "15381          4.9 2010-12-24 00:49:26               0.0              0.0   \n",
       "15402         13.5 2014-05-17 11:59:00               0.0              0.0   \n",
       "15418          7.0 2014-12-12 20:01:00               0.0              0.0   \n",
       "15665         11.3 2012-07-01 21:47:30               0.0              0.0   \n",
       "15764         12.9 2011-08-12 14:35:00               0.0              0.0   \n",
       "15911          5.7 2011-04-07 07:54:53               0.0              0.0   \n",
       "15919         16.5 2011-10-17 08:58:54               0.0              0.0   \n",
       "15920          8.1 2012-05-18 04:44:00               0.0              0.0   \n",
       "15929         10.9 2010-05-18 20:34:00               0.0              0.0   \n",
       "15937          3.3 2009-10-01 20:32:00               0.0              0.0   \n",
       "16014         10.9 2011-03-04 14:05:00               0.0              0.0   \n",
       "\n",
       "       dropoff_longitude  dropoff_latitude  passenger_count  pickup_year  \\\n",
       "11              0.000000          0.000000              3.0         2012   \n",
       "15              0.000000          0.000000              1.0         2013   \n",
       "26              0.000000          0.000000              1.0         2011   \n",
       "124             0.000000          0.000000              2.0         2013   \n",
       "192             0.000000          0.000000              5.0         2010   \n",
       "233             0.000000          0.000000            236.0         2011   \n",
       "273             0.000000          0.000000              4.0         2009   \n",
       "357             0.000000          0.000000              1.0         2013   \n",
       "376             0.000000          0.000000              1.0         2014   \n",
       "387             0.000000          0.000000              1.0         2012   \n",
       "472           -74.005433         40.726685              2.0         2009   \n",
       "498             0.000000          0.000000              1.0         2009   \n",
       "540             0.000000          0.000000              1.0         2013   \n",
       "542             0.000000          0.000000              1.0         2009   \n",
       "568             0.000000          0.000000              1.0         2014   \n",
       "660             0.000000          0.000000              5.0         2010   \n",
       "728             0.000000          0.000000              1.0         2010   \n",
       "799             0.000000          0.000000              5.0         2013   \n",
       "872             0.000000          0.000000              1.0         2011   \n",
       "881             0.000000          0.000000              1.0         2011   \n",
       "887             0.000000          0.000000              1.0         2014   \n",
       "958             0.000000          0.000000              5.0         2011   \n",
       "960             0.000000          0.000000              1.0         2013   \n",
       "964             0.000000          0.000000              1.0         2009   \n",
       "1314            0.000000          0.000000              1.0         2012   \n",
       "1316            0.000000          0.000000              1.0         2014   \n",
       "1397            0.000000          0.000000              2.0         2009   \n",
       "1542            0.000000          0.000000              1.0         2011   \n",
       "1561            0.000000          0.000000              3.0         2013   \n",
       "1595            0.000000          0.000000              1.0         2009   \n",
       "...                  ...               ...              ...          ...   \n",
       "14208           0.000000          0.000000              1.0         2010   \n",
       "14229           0.000000          0.000000              1.0         2012   \n",
       "14233           0.000000          0.000000              1.0         2009   \n",
       "14239           0.000000          0.000000              2.0         2013   \n",
       "14259           0.000000          0.000000              1.0         2013   \n",
       "14304           0.000000          0.000000              1.0         2012   \n",
       "14308         -73.990000         40.755400              0.0         2011   \n",
       "14331           0.000000          0.000000              3.0         2011   \n",
       "14526           0.000000          0.000000              2.0         2014   \n",
       "14701           0.000000          0.000000              5.0         2009   \n",
       "14737           0.000000          0.000000              1.0         2009   \n",
       "14814           0.000000          0.000000              5.0         2012   \n",
       "14925           0.000000          0.000000              1.0         2013   \n",
       "15012           0.000000          0.000000              1.0         2009   \n",
       "15024           0.000000          0.000000              2.0         2011   \n",
       "15027           0.000000          0.000000              1.0         2013   \n",
       "15203           0.000000          0.000000              1.0         2014   \n",
       "15252           0.000000          0.000000              3.0         2011   \n",
       "15379           0.000000          0.000000              5.0         2014   \n",
       "15381           0.000000          0.000000              4.0         2010   \n",
       "15402           0.000000          0.000000              1.0         2014   \n",
       "15418           0.000000          0.000000              2.0         2014   \n",
       "15665           0.000000          0.000000              1.0         2012   \n",
       "15764           0.000000          0.000000              1.0         2011   \n",
       "15911           0.000000          0.000000              1.0         2011   \n",
       "15919         -73.999700         40.734500              0.0         2011   \n",
       "15920           0.000000          0.000000              1.0         2012   \n",
       "15929           0.000000          0.000000              5.0         2010   \n",
       "15937           0.000000          0.000000              3.0         2009   \n",
       "16014           0.000000          0.000000              2.0         2011   \n",
       "\n",
       "       pickup_day  picup_day  pickup_month  pickup_hour  \n",
       "11             24     Monday            12           11  \n",
       "15             23   Saturday            11           12  \n",
       "26              7     Monday             2           20  \n",
       "124            17   Thursday             1           17  \n",
       "192             5     Sunday             9           17  \n",
       "233            24     Sunday             7            1  \n",
       "273            30     Friday            10           18  \n",
       "357             4   Thursday             7           16  \n",
       "376            29   Thursday             5            5  \n",
       "387            15   Thursday            11            8  \n",
       "472            22     Sunday             2           22  \n",
       "498            16     Monday             3            4  \n",
       "540            29    Tuesday            10            1  \n",
       "542            29    Tuesday            12           14  \n",
       "568             8  Wednesday            10            6  \n",
       "660            18  Wednesday             8            3  \n",
       "728            13   Saturday             2            1  \n",
       "799             8     Sunday            12           23  \n",
       "872            25     Sunday             9            2  \n",
       "881            19    Tuesday             7           23  \n",
       "887            26     Friday             9           19  \n",
       "958            22    Tuesday             2           14  \n",
       "960            31     Friday             5            5  \n",
       "964            30    Tuesday             6           10  \n",
       "1314           20   Thursday             9           20  \n",
       "1316           17    Tuesday             6           17  \n",
       "1397           17    Tuesday             2            7  \n",
       "1542           18  Wednesday             5            0  \n",
       "1561            1     Friday             3            0  \n",
       "1595            8    Tuesday            12           20  \n",
       "...           ...        ...           ...          ...  \n",
       "14208          20     Friday             8           17  \n",
       "14229          13  Wednesday             6           11  \n",
       "14233           8  Wednesday             4           18  \n",
       "14239          26   Saturday             1           12  \n",
       "14259          30    Tuesday             4           20  \n",
       "14304          15   Thursday             3           17  \n",
       "14308          11     Friday            11           12  \n",
       "14331          25     Friday             2            2  \n",
       "14526          10   Saturday             5            0  \n",
       "14701          20  Wednesday             5           18  \n",
       "14737          31     Monday             8            7  \n",
       "14814           6     Monday             8            0  \n",
       "14925          11     Monday             3           20  \n",
       "15012          14  Wednesday             1           19  \n",
       "15024          15    Tuesday            11            9  \n",
       "15027          22     Sunday            12            9  \n",
       "15203           9  Wednesday             4           21  \n",
       "15252           8   Saturday            10           19  \n",
       "15379           3    Tuesday             6            0  \n",
       "15381          24     Friday            12            0  \n",
       "15402          17   Saturday             5           11  \n",
       "15418          12     Friday            12           20  \n",
       "15665           1     Sunday             7           21  \n",
       "15764          12     Friday             8           14  \n",
       "15911           7   Thursday             4            7  \n",
       "15919          17     Monday            10            8  \n",
       "15920          18     Friday             5            4  \n",
       "15929          18    Tuesday             5           20  \n",
       "15937           1   Thursday            10           20  \n",
       "16014           4     Friday             3           14  \n",
       "\n",
       "[281 rows x 12 columns]"
      ]
     },
     "execution_count": 39,
     "metadata": {},
     "output_type": "execute_result"
    }
   ],
   "source": [
    "df_train[df_train.pickup_longitude==0]"
   ]
  },
  {
   "cell_type": "code",
   "execution_count": null,
   "metadata": {},
   "outputs": [],
   "source": []
  },
  {
   "cell_type": "code",
   "execution_count": 40,
   "metadata": {},
   "outputs": [
    {
     "data": {
      "text/plain": [
       "(-74.006893, 41.366138)"
      ]
     },
     "execution_count": 40,
     "metadata": {},
     "output_type": "execute_result"
    }
   ],
   "source": [
    "# lets check the pickup lattitude and drop longitude\n",
    "df_train['pickup_latitude'].min(), df_train['dropoff_latitude'].max() #(40.69747, 40.809018)\n",
    "\n",
    "#df_test['pickup_latitude'].min(), df_test['dropoff_latitude'].max()   #(40.573143, 41.696683)"
   ]
  },
  {
   "cell_type": "markdown",
   "metadata": {},
   "source": [
    "## Given data is of Newyork city whose lat, long range is [((40,-74)] so train data having some outliers locations"
   ]
  },
  {
   "cell_type": "code",
   "execution_count": 41,
   "metadata": {},
   "outputs": [],
   "source": [
    "Actual_boundary={'min_lng':-74.263242,\n",
    "              'min_lat':40.573143,\n",
    "              'max_lng':-72.986532, \n",
    "              'max_lat':41.709555}"
   ]
  },
  {
   "cell_type": "code",
   "execution_count": 42,
   "metadata": {
    "scrolled": true
   },
   "outputs": [
    {
     "data": {
      "text/plain": [
       "(array([0, 1, 2, 3]), <a list of 4 Text xticklabel objects>)"
      ]
     },
     "execution_count": 42,
     "metadata": {},
     "output_type": "execute_result"
    },
    {
     "data": {
      "image/png": "[encoded data removed]",
      "text/plain": [
       "<Figure size 432x288 with 1 Axes>"
      ]
     },
     "metadata": {},
     "output_type": "display_data"
    }
   ],
   "source": [
    "loc_data= df_train.loc[:, [\"pickup_longitude\", 'pickup_latitude', 'dropoff_longitude', 'dropoff_latitude']]\n",
    "sns.boxplot(data=loc_data)\n",
    "plt.xticks(rotation=30)"
   ]
  },
  {
   "cell_type": "code",
   "execution_count": 43,
   "metadata": {
    "scrolled": false
   },
   "outputs": [
    {
     "name": "stdout",
     "output_type": "stream",
     "text": [
      "pickup_longitude\n",
      "-73.96863292 -73.9924305\n",
      "-74.02812687 -73.93293655000002\n",
      "pickup_latitude\n",
      "40.766877 40.737493\n",
      "40.693417 40.810953\n",
      "dropoff_longitude\n",
      "-73.96919547 -73.99185\n",
      "-74.02583179499999 -73.935213675\n",
      "dropoff_latitude\n",
      "40.7674215 40.738088000000005\n",
      "40.694087750000016 40.81142174999999\n"
     ]
    }
   ],
   "source": [
    "for i in loc_data:\n",
    "    print(i)\n",
    "\n",
    "    \n",
    "    q75, q25= np.percentile(df_train.loc[:, i], [75, 25])\n",
    "    print(q75, q25)\n",
    "    iqr= q75- q25\n",
    "    min= q25- iqr*1.5\n",
    "    max= q75+ iqr*1.5\n",
    "    print(min, max)\n",
    "    df_train= df_train.drop(df_train[df_train.loc[:, i] < min].index)\n",
    "    df_train= df_train.drop(df_train[df_train.loc[:, i] > max].index)   "
   ]
  },
  {
   "cell_type": "markdown",
   "metadata": {},
   "source": [
    "### Plotting Dropoff lng, lat"
   ]
  },
  {
   "cell_type": "code",
   "execution_count": 44,
   "metadata": {},
   "outputs": [
    {
     "data": {
      "text/plain": [
       "(-74.03, -73.75)"
      ]
     },
     "execution_count": 44,
     "metadata": {},
     "output_type": "execute_result"
    },
    {
     "data": {
      "image/png": "[encoded data removed]",
      "text/plain": [
       "<Figure size 432x288 with 1 Axes>"
      ]
     },
     "metadata": {},
     "output_type": "display_data"
    }
   ],
   "source": [
    "city_long_border = (-74.03, -73.75)\n",
    "city_lat_border = (40.63, 40.85)\n",
    "df_train.plot(kind='scatter', x='dropoff_longitude', y='dropoff_latitude',\n",
    "                color='blue', \n",
    "                s=.02, alpha=.5)\n",
    "plt.title(\"Dropoffs\")\n",
    "\n",
    "plt.ylim(city_lat_border)\n",
    "plt.xlim(city_long_border)"
   ]
  },
  {
   "cell_type": "markdown",
   "metadata": {},
   "source": [
    "### PLotting pickup long, lat"
   ]
  },
  {
   "cell_type": "code",
   "execution_count": 45,
   "metadata": {
    "scrolled": true
   },
   "outputs": [
    {
     "data": {
      "text/plain": [
       "(-74.03, -73.75)"
      ]
     },
     "execution_count": 45,
     "metadata": {},
     "output_type": "execute_result"
    },
    {
     "data": {
      "image/png": "[encoded data removed]",
      "text/plain": [
       "<Figure size 432x288 with 1 Axes>"
      ]
     },
     "metadata": {},
     "output_type": "display_data"
    }
   ],
   "source": [
    "df_train.plot(kind='scatter', x='pickup_longitude', y='pickup_latitude',\n",
    "                color='blue', \n",
    "                s=.02, alpha=.8)\n",
    "plt.title(\"Pickups\")\n",
    "\n",
    "plt.ylim(city_lat_border)\n",
    "plt.xlim(city_long_border)"
   ]
  },
  {
   "cell_type": "markdown",
   "metadata": {},
   "source": [
    "##### we can see heavy pickups and dropoffs near Manhattan"
   ]
  },
  {
   "cell_type": "code",
   "execution_count": 46,
   "metadata": {},
   "outputs": [
    {
     "data": {
      "text/html": [
       "<div>\n",
       "<style scoped>\n",
       "    .dataframe tbody tr th:only-of-type {\n",
       "        vertical-align: middle;\n",
       "    }\n",
       "\n",
       "    .dataframe tbody tr th {\n",
       "        vertical-align: top;\n",
       "    }\n",
       "\n",
       "    .dataframe thead th {\n",
       "        text-align: right;\n",
       "    }\n",
       "</style>\n",
       "<table border=\"1\" class=\"dataframe\">\n",
       "  <thead>\n",
       "    <tr style=\"text-align: right;\">\n",
       "      <th></th>\n",
       "      <th>pickup_latitude</th>\n",
       "      <th>pickup_longitude</th>\n",
       "      <th>avg_fare</th>\n",
       "    </tr>\n",
       "  </thead>\n",
       "  <tbody>\n",
       "    <tr>\n",
       "      <th>0</th>\n",
       "      <td>40.725333</td>\n",
       "      <td>-73.992632</td>\n",
       "      <td>22.1</td>\n",
       "    </tr>\n",
       "    <tr>\n",
       "      <th>1</th>\n",
       "      <td>40.741827</td>\n",
       "      <td>-73.998093</td>\n",
       "      <td>22.1</td>\n",
       "    </tr>\n",
       "    <tr>\n",
       "      <th>2</th>\n",
       "      <td>40.795269</td>\n",
       "      <td>-73.971602</td>\n",
       "      <td>22.1</td>\n",
       "    </tr>\n",
       "    <tr>\n",
       "      <th>3</th>\n",
       "      <td>40.708689</td>\n",
       "      <td>-74.013310</td>\n",
       "      <td>22.0</td>\n",
       "    </tr>\n",
       "    <tr>\n",
       "      <th>4</th>\n",
       "      <td>40.780200</td>\n",
       "      <td>-73.946890</td>\n",
       "      <td>22.0</td>\n",
       "    </tr>\n",
       "    <tr>\n",
       "      <th>5</th>\n",
       "      <td>40.803161</td>\n",
       "      <td>-73.956374</td>\n",
       "      <td>22.0</td>\n",
       "    </tr>\n",
       "    <tr>\n",
       "      <th>6</th>\n",
       "      <td>40.792220</td>\n",
       "      <td>-73.975570</td>\n",
       "      <td>22.0</td>\n",
       "    </tr>\n",
       "    <tr>\n",
       "      <th>7</th>\n",
       "      <td>40.778047</td>\n",
       "      <td>-73.954582</td>\n",
       "      <td>22.0</td>\n",
       "    </tr>\n",
       "    <tr>\n",
       "      <th>8</th>\n",
       "      <td>40.765630</td>\n",
       "      <td>-73.954680</td>\n",
       "      <td>22.0</td>\n",
       "    </tr>\n",
       "    <tr>\n",
       "      <th>9</th>\n",
       "      <td>40.779080</td>\n",
       "      <td>-73.962278</td>\n",
       "      <td>22.0</td>\n",
       "    </tr>\n",
       "  </tbody>\n",
       "</table>\n",
       "</div>"
      ],
      "text/plain": [
       "   pickup_latitude  pickup_longitude  avg_fare\n",
       "0        40.725333        -73.992632      22.1\n",
       "1        40.741827        -73.998093      22.1\n",
       "2        40.795269        -73.971602      22.1\n",
       "3        40.708689        -74.013310      22.0\n",
       "4        40.780200        -73.946890      22.0\n",
       "5        40.803161        -73.956374      22.0\n",
       "6        40.792220        -73.975570      22.0\n",
       "7        40.778047        -73.954582      22.0\n",
       "8        40.765630        -73.954680      22.0\n",
       "9        40.779080        -73.962278      22.0"
      ]
     },
     "execution_count": 46,
     "metadata": {},
     "output_type": "execute_result"
    }
   ],
   "source": [
    "# Lest Check average rate based on lon and lat\n",
    "\n",
    "pickup_fare_amount=df_train.groupby(['pickup_latitude','pickup_longitude'])[['fare_amount']].mean().sort_values(by= \"fare_amount\", ascending= False).reset_index().rename(columns={'fare_amount':'avg_fare'})\n",
    "pickup_fare_amount.head(10)"
   ]
  },
  {
   "cell_type": "markdown",
   "metadata": {},
   "source": [
    "### Calculating Distance between two places"
   ]
  },
  {
   "cell_type": "code",
   "execution_count": 47,
   "metadata": {
    "scrolled": true
   },
   "outputs": [],
   "source": [
    "\n",
    "\n",
    "from math import radians, cos, sin, asin, sqrt\n",
    "import numpy as np\n",
    "\n",
    "def haversine_np(lon1, lat1, lon2, lat2):\n",
    "    \"\"\"\n",
    "    Calculate the great circle distance between two points\n",
    "    on the earth (specified in decimal degrees)\n",
    "\n",
    "    All args must be of equal length.    \n",
    "\n",
    "    \"\"\"\n",
    "    lon1, lat1, lon2, lat2 = map(np.radians, [lon1, lat1, lon2, lat2])\n",
    "\n",
    "    dlon = lon2 - lon1\n",
    "    dlat = lat2 - lat1\n",
    "\n",
    "    a = np.sin(dlat/2.0)**2 + np.cos(lat1) * np.cos(lat2) * np.sin(dlon/2.0)**2\n",
    "\n",
    "    c = 2 * np.arcsin(np.sqrt(a))\n",
    "    km = 6371 * c  # 6371 is Radius of earth in kilometers. Use 3956 for miles\n",
    "    return km\n",
    "\n",
    "df_train['distance'] = haversine_np(df_train['pickup_latitude'], df_train['pickup_longitude'], df_train['dropoff_latitude'] , df_train['dropoff_longitude'])\n"
   ]
  },
  {
   "cell_type": "code",
   "execution_count": 48,
   "metadata": {},
   "outputs": [
    {
     "data": {
      "image/png": "[encoded data removed]",
      "text/plain": [
       "<Figure size 1008x288 with 1 Axes>"
      ]
     },
     "metadata": {},
     "output_type": "display_data"
    }
   ],
   "source": [
    "plt.figure(figsize = (14, 4))\n",
    "n, bins, patches = plt.hist(df_train.distance, 1000, facecolor='blue', alpha=0.75)\n",
    "plt.xlabel('distance')\n",
    "plt.title('Histogram of ride distance')\n",
    "plt.show();"
   ]
  },
  {
   "cell_type": "code",
   "execution_count": 49,
   "metadata": {
    "scrolled": true
   },
   "outputs": [
    {
     "data": {
      "text/plain": [
       "count    13286.000000\n",
       "mean         1.679076\n",
       "std          1.217135\n",
       "min          0.000000\n",
       "25%          0.781320\n",
       "50%          1.368313\n",
       "75%          2.275029\n",
       "max          8.676482\n",
       "Name: distance, dtype: float64"
      ]
     },
     "execution_count": 49,
     "metadata": {},
     "output_type": "execute_result"
    }
   ],
   "source": [
    "df_train['distance'].describe()"
   ]
  },
  {
   "cell_type": "markdown",
   "metadata": {},
   "source": [
    "### PLotting Relationship between trip distance and fair amount"
   ]
  },
  {
   "cell_type": "code",
   "execution_count": 50,
   "metadata": {
    "scrolled": true
   },
   "outputs": [
    {
     "data": {
      "text/plain": [
       "Text(0.5,1,'Trip Distance vs Fare Amount')"
      ]
     },
     "execution_count": 50,
     "metadata": {},
     "output_type": "execute_result"
    },
    {
     "data": {
      "image/png": "[encoded data removed]",
      "text/plain": [
       "<Figure size 432x288 with 1 Axes>"
      ]
     },
     "metadata": {},
     "output_type": "display_data"
    }
   ],
   "source": [
    "plt.scatter(x=df_train['distance'],y=df_train['fare_amount'])\n",
    "plt.xlabel(\"Trip Distance\")\n",
    "plt.ylabel(\"Fare Amount\")\n",
    "plt.title(\"Trip Distance vs Fare Amount\")"
   ]
  },
  {
   "cell_type": "markdown",
   "metadata": {},
   "source": [
    "###### Fare Amount increases with increase in Trip distance"
   ]
  },
  {
   "cell_type": "code",
   "execution_count": 51,
   "metadata": {},
   "outputs": [],
   "source": [
    "# Distance contain some zero value we will remove that frpm the dataset\n",
    "df_train = df_train.loc[df_train['distance'] > 0]"
   ]
  },
  {
   "cell_type": "code",
   "execution_count": 52,
   "metadata": {
    "scrolled": true
   },
   "outputs": [
    {
     "data": {
      "text/html": [
       "<div>\n",
       "<style scoped>\n",
       "    .dataframe tbody tr th:only-of-type {\n",
       "        vertical-align: middle;\n",
       "    }\n",
       "\n",
       "    .dataframe tbody tr th {\n",
       "        vertical-align: top;\n",
       "    }\n",
       "\n",
       "    .dataframe thead th {\n",
       "        text-align: right;\n",
       "    }\n",
       "</style>\n",
       "<table border=\"1\" class=\"dataframe\">\n",
       "  <thead>\n",
       "    <tr style=\"text-align: right;\">\n",
       "      <th></th>\n",
       "      <th>fare_amount</th>\n",
       "      <th>pickup_longitude</th>\n",
       "      <th>pickup_latitude</th>\n",
       "      <th>dropoff_longitude</th>\n",
       "      <th>dropoff_latitude</th>\n",
       "      <th>passenger_count</th>\n",
       "      <th>pickup_year</th>\n",
       "      <th>pickup_day</th>\n",
       "      <th>picup_day</th>\n",
       "      <th>pickup_month</th>\n",
       "      <th>pickup_hour</th>\n",
       "      <th>distance</th>\n",
       "      <th>JFK_distance</th>\n",
       "    </tr>\n",
       "  </thead>\n",
       "  <tbody>\n",
       "    <tr>\n",
       "      <th>1</th>\n",
       "      <td>16.9</td>\n",
       "      <td>-74.016048</td>\n",
       "      <td>40.711303</td>\n",
       "      <td>-73.979268</td>\n",
       "      <td>40.782004</td>\n",
       "      <td>1.0</td>\n",
       "      <td>2010</td>\n",
       "      <td>5</td>\n",
       "      <td>Tuesday</td>\n",
       "      <td>1</td>\n",
       "      <td>16</td>\n",
       "      <td>4.628504</td>\n",
       "      <td>22.786805</td>\n",
       "    </tr>\n",
       "    <tr>\n",
       "      <th>2</th>\n",
       "      <td>5.7</td>\n",
       "      <td>-73.982738</td>\n",
       "      <td>40.761270</td>\n",
       "      <td>-73.991242</td>\n",
       "      <td>40.750562</td>\n",
       "      <td>2.0</td>\n",
       "      <td>2011</td>\n",
       "      <td>18</td>\n",
       "      <td>Thursday</td>\n",
       "      <td>8</td>\n",
       "      <td>0</td>\n",
       "      <td>1.001022</td>\n",
       "      <td>23.054156</td>\n",
       "    </tr>\n",
       "    <tr>\n",
       "      <th>3</th>\n",
       "      <td>7.7</td>\n",
       "      <td>-73.987130</td>\n",
       "      <td>40.733143</td>\n",
       "      <td>-73.991567</td>\n",
       "      <td>40.758092</td>\n",
       "      <td>1.0</td>\n",
       "      <td>2012</td>\n",
       "      <td>21</td>\n",
       "      <td>Saturday</td>\n",
       "      <td>4</td>\n",
       "      <td>4</td>\n",
       "      <td>0.910440</td>\n",
       "      <td>23.415331</td>\n",
       "    </tr>\n",
       "    <tr>\n",
       "      <th>4</th>\n",
       "      <td>5.3</td>\n",
       "      <td>-73.968095</td>\n",
       "      <td>40.768008</td>\n",
       "      <td>-73.956655</td>\n",
       "      <td>40.783762</td>\n",
       "      <td>1.0</td>\n",
       "      <td>2010</td>\n",
       "      <td>9</td>\n",
       "      <td>Tuesday</td>\n",
       "      <td>3</td>\n",
       "      <td>7</td>\n",
       "      <td>1.361021</td>\n",
       "      <td>20.336452</td>\n",
       "    </tr>\n",
       "    <tr>\n",
       "      <th>5</th>\n",
       "      <td>12.1</td>\n",
       "      <td>-74.000964</td>\n",
       "      <td>40.731630</td>\n",
       "      <td>-73.972892</td>\n",
       "      <td>40.758233</td>\n",
       "      <td>1.0</td>\n",
       "      <td>2011</td>\n",
       "      <td>6</td>\n",
       "      <td>Thursday</td>\n",
       "      <td>1</td>\n",
       "      <td>9</td>\n",
       "      <td>3.226363</td>\n",
       "      <td>21.958824</td>\n",
       "    </tr>\n",
       "  </tbody>\n",
       "</table>\n",
       "</div>"
      ],
      "text/plain": [
       "   fare_amount  pickup_longitude  pickup_latitude  dropoff_longitude  \\\n",
       "1         16.9        -74.016048        40.711303         -73.979268   \n",
       "2          5.7        -73.982738        40.761270         -73.991242   \n",
       "3          7.7        -73.987130        40.733143         -73.991567   \n",
       "4          5.3        -73.968095        40.768008         -73.956655   \n",
       "5         12.1        -74.000964        40.731630         -73.972892   \n",
       "\n",
       "   dropoff_latitude  passenger_count  pickup_year  pickup_day picup_day  \\\n",
       "1         40.782004              1.0         2010           5   Tuesday   \n",
       "2         40.750562              2.0         2011          18  Thursday   \n",
       "3         40.758092              1.0         2012          21  Saturday   \n",
       "4         40.783762              1.0         2010           9   Tuesday   \n",
       "5         40.758233              1.0         2011           6  Thursday   \n",
       "\n",
       "   pickup_month  pickup_hour  distance  JFK_distance  \n",
       "1             1           16  4.628504     22.786805  \n",
       "2             8            0  1.001022     23.054156  \n",
       "3             4            4  0.910440     23.415331  \n",
       "4             3            7  1.361021     20.336452  \n",
       "5             1            9  3.226363     21.958824  "
      ]
     },
     "execution_count": 52,
     "metadata": {},
     "output_type": "execute_result"
    }
   ],
   "source": [
    "JFK_coord = (40.6413, -73.7781)\n",
    "pickup_JFK = haversine_np(df_train['pickup_latitude'], df_train['pickup_longitude'], JFK_coord[0], JFK_coord[1]) \n",
    "dropoff_JFK = haversine_np(JFK_coord[0], JFK_coord[1], df_train['dropoff_latitude'], df_train['dropoff_longitude'])\n",
    "df_train['JFK_distance'] = pd.concat([pickup_JFK, dropoff_JFK], axis=1).min(axis=1)\n",
    "del df_train['pickup_datetime']\n",
    "df_train.head()"
   ]
  },
  {
   "cell_type": "markdown",
   "metadata": {},
   "source": [
    "## MODELING\n",
    "  "
   ]
  },
  {
   "cell_type": "code",
   "execution_count": 53,
   "metadata": {},
   "outputs": [],
   "source": [
    "# Assign label to categorical variable pickUp_day\n",
    "\n",
    "df_train.picup_day = pd.Categorical(df_train.picup_day)\n",
    "df_train.picup_day = df_train.picup_day.cat.codes\n",
    "df_train.picup_day = df_train.picup_day.astype('object')"
   ]
  },
  {
   "cell_type": "code",
   "execution_count": null,
   "metadata": {},
   "outputs": [],
   "source": []
  },
  {
   "cell_type": "markdown",
   "metadata": {},
   "source": [
    "##### SPlit Data into Train and Test"
   ]
  },
  {
   "cell_type": "code",
   "execution_count": 54,
   "metadata": {},
   "outputs": [
    {
     "name": "stdout",
     "output_type": "stream",
     "text": [
      "(9222, 12) (9222,) (3953, 12) (3953,)\n"
     ]
    }
   ],
   "source": [
    "# Split data\n",
    "y = df_train['fare_amount']\n",
    "X = df_train.drop(columns=['fare_amount'])\n",
    "X_train, X_test, y_train, y_test = train_test_split(X, y, test_size=0.3, random_state=42)\n",
    "print(X_train.shape, y_train.shape, X_test.shape, y_test.shape)"
   ]
  },
  {
   "cell_type": "markdown",
   "metadata": {},
   "source": [
    "##### Calculate fare rate per km"
   ]
  },
  {
   "cell_type": "code",
   "execution_count": 57,
   "metadata": {},
   "outputs": [],
   "source": [
    "rate = df_train['fare_amount'].mean() / estimate_distance(df_train).mean()\n",
    "print(\"Rate = ${0}/km\".format(rate))"
   ]
  },
  {
   "cell_type": "markdown",
   "metadata": {},
   "source": [
    "## Linear Regression\n",
    "##### Fit and predict model"
   ]
  },
  {
   "cell_type": "code",
   "execution_count": null,
   "metadata": {},
   "outputs": [],
   "source": [
    "X_train= X_train.values\n",
    "X_test = X_test.values"
   ]
  },
  {
   "cell_type": "code",
   "execution_count": null,
   "metadata": {},
   "outputs": [],
   "source": [
    "lm = LinearRegression()\n",
    "lm.fit(X_train,y_train)\n",
    "y_pred=np.round(lm.predict(X_test),2)\n",
    "lm_rmse=np.sqrt(mean_squared_error(y_pred, y_test))\n",
    "lm_train_rmse=np.sqrt(mean_squared_error(lm.predict(X_train), y_train))\n",
    "lm_variance=abs(lm_train_rmse - lm_rmse)\n",
    "print(\"Test RMSE for Linear Regression is \",lm_rmse)\n",
    "print(\"Train RMSE for Linear Regression is \",lm_train_rmse)\n",
    "print(\"Variance for Linear Regression is \",lm_variance)"
   ]
  },
  {
   "cell_type": "code",
   "execution_count": null,
   "metadata": {
    "scrolled": true
   },
   "outputs": [],
   "source": [
    "style.use(\"bmh\")\n",
    "plt.scatter(lm.predict(X_test), y_test) #plot the predicted x_test and y_test values.\n",
    "\n",
    "\n",
    "\n",
    "\n"
   ]
  },
  {
   "cell_type": "code",
   "execution_count": null,
   "metadata": {},
   "outputs": [],
   "source": []
  },
  {
   "cell_type": "code",
   "execution_count": null,
   "metadata": {},
   "outputs": [],
   "source": []
  },
  {
   "cell_type": "markdown",
   "metadata": {},
   "source": [
    "## Random Forest"
   ]
  },
  {
   "cell_type": "code",
   "execution_count": null,
   "metadata": {},
   "outputs": [],
   "source": [
    "rf = RandomForestRegressor(n_estimators = 100, random_state = 883,n_jobs=-1)\n",
    "rf.fit(X_train,y_train)\n",
    "rf_pred= rf.predict(X_test)\n",
    "Rf_rmse=np.sqrt(mean_squared_error(y_pred, y_test))\n",
    "Rf_train_rmse=np.sqrt(mean_squared_error(rf.predict(X_train), y_train))\n",
    "Rf_variance=abs(Rf_train_rmse - Rf_rmse)\n",
    "print(\"Test RMSE for Random Forest is \",Rf_rmse)\n",
    "print(\"Train RMSE for Random Forest is \",Rf_train_rmse)\n",
    "print(\"Variance for Random Forest is \",Rf_variance)"
   ]
  },
  {
   "cell_type": "markdown",
   "metadata": {},
   "source": [
    "## Regression tree"
   ]
  },
  {
   "cell_type": "code",
   "execution_count": null,
   "metadata": {},
   "outputs": [],
   "source": [
    "# Import the necessary modules and libraries\n",
    "import numpy as np\n",
    "from sklearn.tree import DecisionTreeRegressor\n",
    "import matplotlib.pyplot as plt\n",
    "\n",
    "# Fit regression model\n",
    "regr_1 = DecisionTreeRegressor(max_depth=2)\n",
    "regr_1.fit(X_train, y_train)\n",
    "\n",
    "# Predict\n",
    "y_1 = regr_1.predict(X_test)\n",
    "\n",
    "tree_rmse=np.sqrt(mean_squared_error(y_pred, y_test))\n",
    "tree_train_rmse=np.sqrt(mean_squared_error(regr_1.predict(X_train), y_train))\n",
    "tree_variance=abs(tree_train_rmse - tree_rmse)\n",
    "print(\"Test RMSE of tree is \",tree_rmse)\n",
    "print(\"Train RMSE for tree is \",tree_train_rmse)\n",
    "print(\"Variance for tree is \",tree_variance)"
   ]
  },
  {
   "cell_type": "code",
   "execution_count": null,
   "metadata": {},
   "outputs": [],
   "source": []
  },
  {
   "cell_type": "code",
   "execution_count": null,
   "metadata": {},
   "outputs": [],
   "source": []
  }
 ],
 "metadata": {
  "kernelspec": {
   "display_name": "Python 3",
   "language": "python",
   "name": "python3"
  },
  "language_info": {
   "codemirror_mode": {
    "name": "ipython",
    "version": 3
   },
   "file_extension": ".py",
   "mimetype": "text/x-python",
   "name": "python",
   "nbconvert_exporter": "python",
   "pygments_lexer": "ipython3",
   "version": "3.6.4"
  }
 },
 "nbformat": 4,
 "nbformat_minor": 2
}
